{
  "cells": [
    {
      "cell_type": "code",
      "execution_count": null,
      "metadata": {
        "id": "LXOVbT26utyJ"
      },
      "outputs": [],
      "source": [
        "import torch\n",
        "from transformers import BertTokenizer, BertForSequenceClassification\n",
        "from torch.utils.data import DataLoader, Dataset\n",
        "from sklearn.preprocessing import LabelEncoder\n",
        "from sklearn.model_selection import train_test_split\n",
        "from tqdm import tqdm\n",
        "import joblib"
      ]
    },
    {
      "cell_type": "code",
      "execution_count": null,
      "metadata": {
        "colab": {
          "base_uri": "https://localhost:8080/"
        },
        "id": "uzXk7dIaYJG2",
        "outputId": "e2b5ec64-0613-4a4d-a380-255ab0449ca4"
      },
      "outputs": [
        {
          "name": "stdout",
          "output_type": "stream",
          "text": [
            " In the quaint town of Willowbrook, nestled amidst lush greenery, a chilling crime unfolded one stormy night. The victim, Mr. Edward Sinclair, a renowned art collector with a penchant for controversy, was found lifeless in his opulent mansion. The scene was a tableau of horror, with shattered glass from a broken window strewn across the floor and ominous thunder echoing through the halls. Mr. Sinclair lay sprawled on the Persian rug in the study, a look of terror frozen on his face.  As the investigation unfolded, a web of intricate relationships and hidden agendas began to surface among the guests who had attended Mr. Sinclair's ill-fated soirée. Dr. Amelia Blackwood, a respected psychiatrist known for her sharp intellect and piercing gaze, was among the first to arrive, her presence suffused with an air of mystery. Mr. Henry Donovan, a shrewd businessman with a penchant for high-stakes gambling, mingled effortlessly with the elite crowd, his calculating eyes betraying little of his true intentions. Ms. Isabella Sanchez, a talented artist whose paintings adorned the walls of Mr. Sinclair's mansion, moved through the crowd like a shadow, her enigmatic demeanor belying a simmering passion beneath the surface.  Each guest harbored their own secrets and motivations, their interactions tinged with a palpable tension that hung heavy in the air.  As the storm raged outside, emotions reached a boiling point, culminating in a violent confrontation that ended in tragedy. In a moment of madness, someone seized the antique dagger, a symbol of Mr. Sinclair's opulent lifestyle and the source of envy, and plunged it into his heart, extinguishing the flicker of hope that had once burned between them.  The murder weapon, a gleaming antique dagger of exquisite craftsmanship, was discovered hidden behind a tapestry, its handle stained with the crimson imprint of betrayal. Yet, amidst the chaos and confusion, the absence of a clear motive confounded investigators, leaving them grasping at straws in their quest for justice.  Each guest's intricate backstory, motivations, and the subtle nuances of their interactions provided investigators with a rich tapestry of clues, but uncovering the truth would require unraveling the tangled web of lies and deceit that shrouded the night of the murder.  \n",
            " In the serene town of Meadowbrook, a sinister crime unfolded one foggy evening. The victim, Mr. James Monroe, a prominent local politician known for his charismatic charm, was discovered dead in his sprawling estate. The scene was haunting, with tendrils of mist creeping through the corridors and casting eerie shadows on the walls. Mr. Monroe lay motionless in his study, a look of disbelief frozen on his face.  As investigators delved into the mystery, a diverse cast of characters emerged among the guests who had attended Mr. Monroe's fateful gathering. Dr. Gregory Westwood, a renowned surgeon with a penchant for secrecy, arrived early, his demeanor guarded and inscrutable. Ms. Samantha Taylor, a fiery journalist known for her relentless pursuit of truth, mingled with the crowd, her probing questions sparking suspicion. Mr. Daniel Thompson, a wealthy entrepreneur with a reputation for ruthlessness, moved through the room with ease, his steely gaze betraying little of his true intentions.  Each guest harbored their own secrets and motivations, their interactions fraught with tension and hidden agendas.  As the night wore on, tempers flared and long-held grudges bubbled to the surface. Amidst heated arguments and whispered accusations, someone seized a lethal weapon—a vintage revolver—and fired a single fatal shot, ending Mr. Monroe's life in an instant.  The murder weapon, a tarnished revolver of antique design, was discovered discarded in the garden, its barrel still warm from the fatal shot. Yet, amidst the chaos and confusion, the identity of the killer remained elusive, shrouded in a veil of mystery.  Each guest's tangled web of lies and deceit provided investigators with a labyrinth of clues, but unraveling the truth would require navigating the treacherous depths of deception that lurked within Meadowbrook's elite circles.  \n",
            " In the bustling metropolis of Summit City, a shocking crime rocked the upper echelons of society. The victim, Ms. Victoria Reynolds, a wealthy heiress known for her lavish parties, was found dead in her opulent penthouse suite. The scene was one of opulence turned to tragedy, with the glittering skyline providing a stark backdrop to the grim tableau within. Ms. Reynolds lay sprawled on the marble floor, her expression frozen in a silent scream of terror.  As investigators combed through the evidence, a myriad of suspects emerged from the shadows of Ms. Reynolds's extravagant lifestyle. Dr. Benjamin Carter, a prominent neuroscientist with a penchant for experimentation, arrived at the scene with a curious gleam in his eye, his mind undoubtedly already calculating the possibilities. Ms. Olivia Parker, a socialite with a flair for drama, fluttered about the room in a whirlwind of emotions, her tears masking a deeper well of secrets. Mr. Nicholas Adams, a charming playboy with a taste for danger, lingered on the periphery, his devil-may-care attitude a stark contrast to the gravity of the situation.  Each guest brought their own baggage to the gathering, their tangled relationships and hidden agendas casting a shadow over the proceedings.  As the night wore on, tensions simmered beneath the surface, threatening to boil over into violence. Amidst whispered accusations and desperate pleas, someone seized a deadly weapon—a shimmering crystal chandelier—and brought it crashing down upon Ms. Reynolds, snuffing out her life in a shower of shattered glass and twisted metal.  The murder weapon, a once-beautiful chandelier now stained with blood and betrayal, lay shattered on the floor, a grim reminder of the horrors that had unfolded. Yet, amidst the chaos and confusion, the identity of the killer remained a tantalizing mystery, obscured by a veil of deception and deceit.  Each guest's tangled web of lies and half-truths provided investigators with a tantalizing puzzle, but piecing together the truth would require unraveling the tangled threads of Summit City's high society.  \n",
            " In the quaint village of Riverdale, nestled along the banks of a meandering river, a tragic crime sent shockwaves through the tight-knit community. The victim, Mr. Thomas Bennett, a beloved local philanthropist, was discovered dead in his charming countryside cottage. The scene was one of pastoral beauty marred by unspeakable violence, with the tranquil surroundings serving as a stark contrast to the grisly tableau within. Mr. Bennett lay motionless on the rustic hearth, his peaceful expression betraying the horrors that had befallen him.  As investigators sifted through the evidence, a motley crew of suspects emerged from the fabric of Riverdale's close-knit community. Dr. Emily Carter, a dedicated veterinarian with a penchant for compassion, arrived on the scene with a furrowed brow, her mind already racing with possibilities. Mr. James Wilson, a rugged outdoorsman with a love for adventure, surveyed the scene with a keen eye, his rough-hewn features masking a depth of hidden motives. Ms. Sarah Johnson, a sweet-natured librarian with a love for literature, moved through the crowd with a quiet grace, her gentle demeanor belying a turbulent undercurrent of emotions.  Each guest brought their own baggage to the gathering, their tangled relationships and hidden secrets casting a shadow over the proceedings.  As the investigation unfolded, old wounds were reopened and simmering resentments bubbled to the surface. Amidst whispered accusations and tearful confessions, someone seized a deadly weapon—a rustic hunting rifle—and unleashed a torrent of violence upon Mr. Bennett, snuffing out his life in a blaze of gunfire.  The murder weapon, a weathered rifle stained with blood and betrayal, lay discarded on the floor, a grim testament to the horrors that had transpired. Yet, amidst the chaos and confusion, the identity of the killer remained shrouded in mystery, obscured by a veil of deception and deceit.  Each guest's tangled web of lies and half-truths provided investigators with a tantalizing puzzle, but piecing together the truth would require unraveling the tangled threads of Riverdale's close-knit community.  \n",
            " In the picturesque town of Greenfield, nestled amidst rolling hills and lush forests, a shocking crime unfolded one serene evening. The victim, Ms. Elizabeth Parker, a beloved schoolteacher known for her unwavering dedication to her students, was discovered dead in her quaint cottage. The scene was one of tranquility shattered by violence, with the gentle rustle of leaves outside providing a stark contrast to the grim tableau within. Ms. Parker lay sprawled on the wooden floor, her lifeless gaze fixed on the ceiling above.  As investigators combed through the evidence, a diverse array of suspects emerged from the shadows of Greenfield's idyllic landscape. Dr. Richard Thompson, a respected local physician with a penchant for privacy, arrived at the scene with a somber expression, his mind undoubtedly already analyzing the situation with clinical precision. Ms. Julia Adams, a vivacious florist with a flair for drama, fluttered about the room in a whirlwind of emotion, her tearful outbursts masking a deeper well of secrets. Mr. David Evans, a reclusive artist with a penchant for solitude, lingered on the periphery, his brooding demeanor hinting at a wellspring of hidden motives.  Each guest brought their own burdens to the gathering, their tangled relationships and hidden agendas casting a shadow over the proceedings.  As the night wore on, tensions simmered beneath the surface, threatening to erupt into violence at any moment. Amidst whispered accusations and desperate pleas, someone seized a deadly weapon—a rustic fireplace poker—and brought it crashing down upon Ms. Parker, extinguishing the light of her life in a single brutal blow.  The murder weapon, a once-innocent fireplace poker now stained with blood and betrayal, lay discarded on the floor, a grim reminder of the horrors that had unfolded. Yet, amidst the chaos and confusion, the identity of the killer remained a tantalizing mystery, obscured by a veil of deception and deceit.  Each guest's tangled web of lies and half-truths provided investigators with a tantalizing puzzle, but piecing together the truth would require unraveling the tangled threads of Greenfield's tranquil facade.  \n",
            " In the bustling city of Harborview, where skyscrapers towered over bustling streets, a chilling crime sent shockwaves through the urban landscape. The victim, Mr. Daniel Cooper, a rising star in the world of finance, was discovered dead in his lavish penthouse apartment. The scene was one of luxury turned to tragedy, with the gleaming skyline providing a stark backdrop to the grim tableau within. Mr. Cooper lay motionless on the plush carpet, his expression frozen in a silent scream of terror.  As investigators combed through the evidence, a myriad of suspects emerged from the shadows of Harborview's bustling streets. Dr. Emily Roberts, a renowned psychologist with a penchant for probing questions, arrived at the scene with a furrowed brow, her mind already racing with possibilities. Mr. Jonathan Harris, a charming entrepreneur with a taste for risk, surveyed the scene with a calculating gaze, his smooth demeanor masking a depth of hidden motives. Ms. Rebecca Thompson, a socialite with a flair for the dramatic, moved through the crowd with a quiet grace, her elegant facade concealing a turbulent undercurrent of emotions.  Each guest brought their own baggage to the gathering, their tangled relationships and hidden secrets casting a shadow over the proceedings.  As the investigation unfolded, old wounds were reopened and simmering resentments bubbled to the surface. Amidst whispered accusations and tearful confessions, someone seized a deadly weapon—a gleaming letter opener—and unleashed a torrent of violence upon Mr. Cooper, snuffing out his life in an instant.  The murder weapon, a once-innocent letter opener now stained with blood and betrayal, lay discarded on the floor, a grim testament to the horrors that had transpired. Yet, amidst the chaos and confusion, the identity of the killer remained shrouded in mystery, obscured by a veil of deception and deceit.  Each guest's tangled web of lies and half-truths provided investigators with a tantalizing puzzle, but piecing together the truth would require unraveling the tangled threads of Harborview's urban landscape.  \n",
            " In the sleepy town of Maplewood, where winding roads led through verdant forests and quaint cottages dotted the landscape, a shocking crime unfolded one peaceful evening. The victim, Mrs. Margaret Roberts, a beloved grandmother known for her warm smile and gentle demeanor, was discovered dead in her cozy home. The scene was one of serenity shattered by violence, with the soft glow of lamplight providing a stark contrast to the grim tableau within. Mrs. Roberts lay motionless on the living room floor, her lifeless gaze fixed on the ceiling above.  As investigators combed through the evidence, a diverse array of suspects emerged from the shadows of Maplewood's tranquil surroundings. Dr. Michael Anderson, a respected local veterinarian with a penchant for solitude, arrived at the scene with a somber expression, his keen eyes scanning the room for clues. Ms. Emily Wilson, a young nurse with a heart of gold, fluttered about the room in a whirlwind of emotion, her tearful outbursts masking a deeper well of secrets. Mr. Robert Thompson, a stoic farmer with a rugged exterior, lingered on the periphery, his rough hands betraying a depth of hidden motives.  Each guest brought their own burdens to the gathering, their tangled relationships and hidden agendas casting a shadow over the proceedings.  As the night wore on, tensions simmered beneath the surface, threatening to erupt into violence at any moment.  Amidst whispered accusations and desperate pleas, someone seized a deadly weapon—a heavy cast-iron skillet—and brought it crashing down upon Mrs. Roberts, extinguishing the light of her life in a single brutal blow.  The murder weapon, a once-innocent skillet now stained with blood and betrayal, lay discarded on the floor, a grim reminder of the horrors that had unfolded. Yet, amidst the chaos and confusion, the identity of the killer remained a tantalizing mystery, obscured by a veil of deception and deceit.  Each guest's tangled web of lies and half-truths provided investigators with a tantalizing puzzle, but piecing together the truth would require unraveling the tangled threads of Maplewood's tranquil facade.  \n",
            " In the historic town of Crestwood, where cobblestone streets wound through centuries-old buildings and ivy-clad walls, a sinister crime sent shockwaves through the cobblestone alleys. The victim, Mr. Alexander Thompson, a renowned historian with a passion for the past, was discovered dead in his ancestral mansion. The scene was one of grandeur turned to tragedy, with the imposing facade providing a stark backdrop to the grim tableau within. Mr. Thompson lay sprawled on the polished marble floor, his expression frozen in a silent scream of terror.  As investigators delved into the mystery, a diverse cast of characters emerged from the shadows of Crestwood's storied past. Dr. Catherine Lewis, a respected archaeologist with a penchant for uncovering ancient secrets, arrived early, her scholarly demeanor masking a depth of hidden motives. Mr. Samuel Adams, a charming antiques dealer with a flair for the dramatic, mingled effortlessly with the crowd, his smooth words concealing a turbulent undercurrent of emotions. Ms. Jessica Parker, a talented artist with a troubled past, moved through the room with a quiet grace, her haunted eyes betraying a depth of hidden motives.  Each guest brought their own baggage to the gathering, their tangled relationships and hidden secrets casting a shadow over the proceedings.  As the investigation unfolded, old wounds were reopened and simmering resentments bubbled to the surface. Amidst whispered accusations and tearful confessions, someone seized a deadly weapon—a priceless antique dagger—and unleashed a torrent of violence upon Mr. Thompson, snuffing out his life in an instant.  The murder weapon, a gleaming dagger of exquisite craftsmanship now stained with blood and betrayal, lay discarded on the floor, a grim reminder of the horrors that had unfolded. Yet, amidst the chaos and confusion, the identity of the killer remained shrouded in mystery, obscured by a veil of deception and deceit.  Each guest's tangled web of lies and half-truths provided investigators with a tantalizing puzzle, but piecing together the truth would require unraveling the tangled threads of Crestwood's storied history.  \n",
            " In the serene town of Lakeside, where the tranquil waters mirrored the azure sky above, a chilling crime shattered the peaceful facade. The victim, Mr. Charles Bennett, a reclusive novelist known for his enigmatic stories, was discovered dead in his secluded lakeside cabin. The scene was one of solitude turned to tragedy, with the gentle lapping of waves against the shore providing a haunting soundtrack to the grim tableau within. Mr. Bennett lay motionless on the wooden floor, his expression frozen in a silent scream of terror.  As investigators combed through the evidence, a diverse array of suspects emerged from the shadows of Lakeside's serene landscape. Dr. Elizabeth Carter, a renowned psychologist with a penchant for delving into the human psyche, arrived at the scene with a furrowed brow, her analytical mind already dissecting the situation. Mr. John Anderson, a taciturn fisherman with a love for the solitude of the lake, surveyed the scene with a weathered gaze, his rugged exterior betraying little of his true emotions. Ms. Lily Parker, a mysterious newcomer with a penchant for intrigue, moved through the crowd with a graceful stride, her unreadable expression masking a depth of hidden motives.  Each guest brought their own burdens to the gathering, their tangled relationships and hidden agendas casting a shadow over the proceedings.  As the investigation unfolded, old wounds were reopened and simmering resentments bubbled to the surface. Amidst whispered accusations and tearful confessions, someone seized a deadly weapon—a heavy fishing net—and brought it crashing down upon Mr. Bennett, snuffing out his life in an instant.  The murder weapon, a once-innocent fishing net now stained with blood and betrayal, lay discarded on the floor, a grim reminder of the horrors that had transpired. Yet, amidst the chaos and confusion, the identity of the killer remained a tantalizing mystery, obscured by a veil of deception and deceit.  Each guest's tangled web of lies and half-truths provided investigators with a tantalizing puzzle, but piecing together the truth would require unraveling the tangled threads of Lakeside's tranquil facade.  \n",
            " In the bustling city of Brooksville, where neon lights cast a colorful glow over bustling streets, a shocking crime sent shockwaves through the urban landscape. The victim, Mr. Michael Johnson, a rising star in the world of technology, was discovered dead in his sleek downtown loft. The scene was one of modernity turned to tragedy, with the gleaming skyscrapers providing a stark backdrop to the grim tableau within. Mr. Johnson lay sprawled on the polished concrete floor, his expression frozen in a silent scream of terror.  As investigators combed through the evidence, a myriad of suspects emerged from the shadows of Brooksville's bustling streets. Dr. Matthew Roberts, a respected neuroscientist with a penchant for unlocking the secrets of the mind, arrived at the scene with a furrowed brow, his keen eyes scanning the room for clues. Ms. Jennifer Thompson, a savvy businesswoman with a taste for the finer things in life, surveyed the scene with a calculating gaze, her smooth demeanor masking a depth of hidden motives. Mr. Robert Adams, a charismatic politician with a penchant for power, moved through the crowd with an air of authority, his confident facade concealing a turbulent undercurrent of emotions.  Each guest brought their own burdens to the gathering, their tangled relationships and hidden agendas casting a shadow over the proceedings.  As the night wore on, tensions simmered beneath the surface, threatening to erupt into violence at any moment. Amidst whispered accusations and desperate pleas, someone seized a deadly weapon—a sleek smartphone—and unleashed a torrent of violence upon Mr. Johnson, snuffing out his life in an instant.  The murder weapon, a once-innocent smartphone now stained with blood and betrayal, lay discarded on the floor, a grim reminder of the horrors that had unfolded. Yet, amidst the chaos and confusion, the identity of the killer remained shrouded in mystery, obscured by a veil of deception and deceit.  Each guest's tangled web of lies and half-truths provided investigators with a tantalizing puzzle, but piecing together the truth would require unraveling the tangled threads of Brooksville's urban landscape.  \n",
            " In the quaint village of Willowvale, where cobblestone streets wound through charming cottages and ancient oak trees loomed overhead, a sinister crime sent shockwaves through the tight-knit community. The victim, Ms. Emily Thompson, a beloved baker known for her sweet treats and warm smile, was discovered dead in her cozy bakery. The scene was one of innocence turned to tragedy, with the scent of freshly baked bread providing a bittersweet backdrop to the grim tableau within. Ms. Thompson lay motionless on the tiled floor, her expression frozen in a silent scream of terror.  As investigators sifted through the evidence, a diverse array of suspects emerged from the fabric of Willowvale's close-knit community. Dr. Benjamin Parker, a respected local doctor with a penchant for privacy, arrived at the scene with a somber expression, his keen eyes scanning the room for clues. Ms. Sarah Evans, a gentle florist with a heart of gold, fluttered about the room in a whirlwind of emotion, her tearful outbursts masking a deeper well of secrets. Mr. David Wilson, a stoic carpenter with a rugged exterior, lingered on  the periphery, his rough hands betraying a depth of hidden motives.  Each guest brought their own burdens to the gathering, their tangled relationships and hidden agendas casting a shadow over the proceedings.  As the investigation unfolded, old wounds were reopened and simmering resentments bubbled to the surface. Amidst whispered accusations and tearful confessions, someone seized a deadly weapon—a heavy rolling pin—and brought it crashing down upon Ms. Thompson, extinguishing the light of her life in a single brutal blow.  The murder weapon, a once-innocent rolling pin now stained with blood and betrayal, lay discarded on the floor, a grim reminder of the horrors that had unfolded. Yet, amidst the chaos and confusion, the identity of the killer remained a tantalizing mystery, obscured by a veil of deception and deceit.  Each guest's tangled web of lies and half-truths provided investigators with a tantalizing puzzle, but piecing together the truth would require unraveling the tangled threads of Willowvale's close-knit community.  \n",
            " In the tranquil town of Rivertown, nestled along the banks of a meandering river, a chilling crime unfolded one peaceful evening. The victim, Mr. Andrew Miller, a respected local historian known for his meticulous research, was discovered dead in his historic home turned museum. The scene was one of history turned to tragedy, with the soft glow of candlelight providing a haunting backdrop to the grim tableau within. Mr. Miller lay motionless on the antique rug, his expression frozen in a silent scream of terror.  As investigators combed through the evidence, a diverse array of suspects emerged from the shadows of Rivertown's storied past. Dr. Sarah Johnson, a renowned archaeologist with a penchant for uncovering ancient secrets, arrived at the scene with a furrowed brow, her keen eyes scanning the room for clues. Mr. James Carter, a stoic librarian with a love for the written word, surveyed the scene with a weathered gaze, his scholarly demeanor masking a depth of hidden motives. Ms. Emily Thompson, a sweet-natured volunteer with a passion for preservation, moved through the crowd with a quiet grace, her gentle demeanor belying a turbulent undercurrent of emotions.  Each guest brought their own burdens to the gathering, their tangled relationships and hidden agendas casting a shadow over the proceedings.  As the night wore on, tensions simmered beneath the surface, threatening to erupt into violence at any moment. Amidst whispered accusations and desperate pleas, someone seized a deadly weapon—a tarnished dagger from the museum's collection—and brought it crashing down upon Mr. Miller, snuffing out his life in an instant.  The murder weapon, a once-innocent dagger now stained with blood and betrayal, lay discarded on the floor, a grim reminder of the horrors that had transpired. Yet, amidst the chaos and confusion, the identity of the killer remained shrouded in mystery, obscured by a veil of deception and deceit.  Each guest's tangled web of lies and half-truths provided investigators with a tantalizing puzzle, but piecing together the truth would require unraveling the tangled threads of Rivertown's storied history.  \n",
            " In the bustling city of Harborview, where skyscrapers towered over bustling streets, a shocking crime sent shockwaves through the urban landscape. The victim, Ms. Rachel Parker, a rising star in the world of finance, was discovered dead in her sleek downtown apartment. The scene was one of modernity turned to tragedy, with the gleaming skyscrapers providing a stark backdrop to the grim tableau within. Ms. Parker lay sprawled on the polished marble floor, her expression frozen in a silent scream of terror.  As investigators combed through the evidence, a myriad of suspects emerged from the shadows of Harborview's bustling streets. Dr. Michael Thompson, a respected neuroscientist with a penchant for unlocking the secrets of the mind, arrived at the scene with a furrowed brow, his keen eyes scanning the room for clues. Ms. Jennifer Adams, a savvy businesswoman with a taste for the finer things in life, surveyed the scene with a calculating gaze, her smooth demeanor masking a depth of hidden motives. Mr. Robert Wilson, a charismatic politician with a penchant for power, moved through the crowd with an air of authority, his confident facade concealing a turbulent undercurrent of emotions.  Each guest brought their own burdens to the gathering, their tangled relationships and hidden agendas casting a shadow over the proceedings.  As the night wore on, tensions simmered beneath the surface, threatening to erupt into violence at any moment. Amidst whispered accusations and desperate pleas, someone seized a deadly weapon—a sleek letter opener—and unleashed a torrent of violence upon Ms. Parker, snuffing out her life in an instant.  The murder weapon, a once-innocent letter opener now stained with blood and betrayal, lay discarded on the floor, a grim reminder of the horrors that had unfolded. Yet, amidst the chaos and confusion, the identity of the killer remained shrouded in mystery, obscured by a veil of deception and deceit.  Each guest's tangled web of lies and half-truths provided investigators with a tantalizing puzzle, but piecing together the truth would require unraveling the tangled threads of Harborview's urban landscape.  \n",
            " In the tranquil town of Meadowbrook, nestled amidst rolling hills and lush forests, a shocking crime shattered the peaceful facade. The victim, Mr. David Roberts, a reclusive artist known for his enigmatic paintings, was discovered dead in his secluded woodland studio. The scene was one of creativity turned to tragedy, with the gentle rustle of leaves outside providing a haunting soundtrack to the grim tableau within. Mr. Roberts lay motionless on the wooden floor, his expression frozen in a silent scream of terror.  As investigators combed through the evidence, a diverse array of suspects emerged from the shadows of Meadowbrook's serene landscape. Dr. Elizabeth Wilson, a renowned psychologist with a penchant for delving into the human psyche, arrived at the scene with a furrowed brow, her analytical mind already dissecting the situation. Mr. John Thompson, a taciturn lumberjack with a love for the solitude of the forest, surveyed the scene with a weathered gaze, his rugged exterior betraying little of his true emotions. Ms. Lily Johnson, a mysterious newcomer with a penchant for intrigue, moved through the crowd with a graceful stride, her unreadable expression masking a depth of hidden motives.  Each guest brought their own burdens to the gathering, their tangled relationships and hidden agendas casting a shadow over the proceedings.  As the investigation unfolded, old wounds were reopened and simmering resentments bubbled to the surface. Amidst whispered accusations and tearful confessions, someone seized a deadly weapon—a palette knife from the studio— and brought it crashing down upon Mr. Roberts, snuffing out his life in an instant.  The murder weapon, a once-innocent palette knife now stained with blood and betrayal, lay discarded on the floor, a grim reminder of the horrors that had transpired. Yet, amidst the chaos and confusion, the identity of the killer remained shrouded in mystery, obscured by a veil of deception and deceit.  Each guest's tangled web of lies and half-truths provided investigators with a tantalizing puzzle, but piecing together the truth would require unraveling the tangled threads of Meadowbrook's tranquil facade.  \n",
            " In the charming town of Oakwood, where the scent of wildflowers wafted through the air, a shocking crime rocked the tranquil community. The victim, Mrs. Evelyn Parker, a beloved local baker known for her delectable pies, was discovered dead in her quaint bakery. The scene was one of sweetness turned to tragedy, with the aroma of freshly baked goods mingling with the heavy air of despair. Mrs. Parker lay sprawled on the tiled floor, her lifeless gaze fixed on the ceiling above.  As investigators combed through the evidence, a myriad of suspects emerged from the close-knit fabric of Oakwood's community. Dr. Benjamin Carter, a respected veterinarian with a penchant for animal advocacy, arrived at the scene with a furrowed brow, his analytical mind already dissecting the situation. Ms. Lily Thompson, a kind-hearted florist with a love for nature, fluttered about the room in a whirlwind of emotion, her tearful outbursts masking a deeper well of secrets. Mr. David Wilson, a stoic carpenter with a rugged exterior, lingered on the periphery, his rough hands betraying a depth of hidden motives.  Each guest brought their own burdens to the gathering, their tangled relationships and hidden agendas casting a shadow over the proceedings.  As the investigation unfolded, old wounds were reopened and simmering resentments bubbled to the surface. Amidst whispered accusations and tearful confessions, someone seized a deadly weapon—a heavy rolling pin—and brought it crashing down upon Mrs. Parker, extinguishing the light of her life in a single brutal blow.  The murder weapon, a once-innocent rolling pin now stained with blood and betrayal, lay discarded on the floor, a grim reminder of the horrors that had transpired. Yet, amidst the chaos and confusion, the identity of the killer remained shrouded in mystery, obscured by a veil of deception and deceit.  Each guest's tangled web of lies and half-truths provided investigators with a tantalizing puzzle, but piecing together the truth would require unraveling the tangled threads of Oakwood's tranquil facade.  \n",
            " In the historic town of Ashbourne, where cobblestone streets wound through centuries-old buildings, a sinister crime sent shockwaves through the community. The victim, Mr. Samuel Roberts, a respected antique dealer known for his keen eye and sharp wit, was discovered dead in his shop. The scene was one of nostalgia turned to tragedy, with the dusty artifacts providing a haunting backdrop to the grim tableau within. Mr. Roberts lay motionless on the worn Persian rug, his expression frozen in a silent scream of terror.  As investigators sifted through the evidence, a diverse array of suspects emerged from the shadows of Ashbourne's storied past. Dr. Emily Wilson, a renowned archaeologist with a penchant for uncovering ancient secrets, arrived at the scene with a furrowed brow, her analytical mind already dissecting the situation. Mr. John Thompson, a taciturn gardener with a love for the tranquility of nature, surveyed the scene with a weathered gaze, his rugged exterior betraying little of his true emotions. Ms. Jessica Adams, a charming artist with a flair for the dramatic, moved through the crowd with a graceful stride, her enigmatic demeanor belying a simmering passion beneath the surface.  Each guest brought their own burdens to the gathering, their tangled relationships and hidden agendas casting a shadow over the proceedings.  As the night wore on, tensions simmered beneath the surface, threatening to erupt into violence at any moment. Amidst whispered accusations and desperate pleas, someone seized a deadly weapon—a tarnished antique pistol—and brought it crashing down upon Mr. Roberts, snuffing out his life in an instant.  The murder weapon, a once-innocent pistol now stained with blood and betrayal, lay discarded on the floor, a grim reminder of the horrors that had unfolded. Yet, amidst the chaos and confusion, the identity of the killer remained shrouded in mystery, obscured by a veil of deception and deceit.  Each guest's tangled web of lies and half-truths provided investigators with a tantalizing puzzle, but piecing together the truth would require unraveling the tangled threads of Ashbourne's storied history.  \n",
            " In the idyllic village of Meadowbrook, nestled amidst rolling hills and verdant pastures, a tragic crime shattered the peace of a summer afternoon. The victim, Mr. William Thompson, a beloved local farmer known for his gentle demeanor and generous spirit, was discovered dead in his barn. The scene was one of pastoral beauty marred by unspeakable violence, with the scent of hay mingling with the heavy air of despair. Mr. Thompson lay motionless on the straw-strewn floor, his expression frozen in a silent scream of terror.  As investigators sifted through the evidence, a diverse array of suspects emerged from the close-knit fabric of Meadowbrook's community. Dr. Michael Carter, a respected veterinarian with a penchant for compassion, arrived at the scene with a furrowed brow, his mind already racing with possibilities. Ms. Sarah Evans, a sweet-natured librarian with a love for literature, fluttered about the barn in a whirlwind of emotion, her tearful outbursts masking a deeper well of secrets. Mr. David Wilson, a stoic carpenter with a rugged exterior, lingered on the periphery, his rough hands betraying a depth of hidden motives.  Each guest brought their own burdens to the gathering, their tangled relationships and hidden agendas casting a shadow over the proceedings.  As the investigation unfolded, old wounds were reopened and simmering resentments bubbled to the surface. Amidst whispered accusations and tearful confessions, someone seized a deadly weapon—a rusted pitchfork—and brought it crashing down upon Mr. Thompson, extinguishing the light of his life in a single brutal blow.  The murder weapon, a once-innocent pitchfork now stained with blood and betrayal, lay discarded on the floor, a grim reminder of the horrors that had transpired. Yet, amidst the chaos and confusion, the identity of the killer remained a tantalizing mystery, obscured by a veil of deception and deceit.  Each guest's tangled web of lies and half-truths provided investigators with a tantalizing puzzle, but piecing together the truth would require unraveling the tangled threads of Meadowbrook's close-knit community.  \n",
            " In the picturesque town of Cedarwood, where the scent of pine lingered in the air, a shocking crime unfolded one foggy evening. The victim, Mrs. Margaret Wilson, a beloved local florist known for her vibrant arrangements, was discovered dead in her quaint flower shop. The scene was one of beauty turned to tragedy, with the colorful blooms providing a stark contrast to the grim tableau within. Mrs. Wilson lay motionless on the tiled floor, her once-cheerful expression now frozen in a silent scream of terror.  As investigators combed through the evidence, a diverse array of suspects emerged from the shadows of Cedarwood's charming streets. Dr. Benjamin Carter, a respected veterinarian with a penchant for solving puzzles, arrived at the scene with a furrowed brow, his analytical mind already dissecting the situation. Ms. Lily Thompson, a gentle librarian with a love for literature, fluttered about the room in a whirlwind of emotion, her tearful outbursts masking a deeper well of secrets. Mr. James Roberts, a stoic carpenter with a rugged exterior, lingered on the periphery, his rough hands betraying a depth of hidden motives.  Each guest brought their own burdens to the gathering, their tangled relationships and hidden agendas casting a shadow over the proceedings.  As the investigation unfolded, old wounds were reopened and simmering resentments bubbled to the surface. Amidst whispered accusations and tearful confessions, someone seized a deadly weapon—a delicate vase from Mrs. Wilson's own collection—and brought it crashing down upon her, extinguishing the light of her life in a single brutal blow.  The murder weapon, a once-innocent vase now stained with blood and betrayal, lay discarded on the floor, a grim reminder of the horrors that had transpired. Yet, amidst the chaos and confusion, the identity of the killer remained shrouded in mystery, obscured by a veil of deception and deceit.  Each guest's tangled web of lies and half-truths provided investigators with a tantalizing puzzle, but piecing together the truth would require unraveling the tangled threads of Cedarwood's quaint facade.  \n",
            " In the vibrant city of Brooksville, where neon lights cast a colorful glow over bustling streets, a shocking crime sent shockwaves through the urban landscape. The victim, Mr. Daniel Parker, a rising star in the world of finance, was discovered dead in his sleek downtown penthouse. The scene was one of modernity turned to tragedy, with the gleaming skyscrapers providing a stark backdrop to the grim tableau within. Mr. Parker lay sprawled on the polished marble floor, his expression frozen in a silent scream of terror.  As investigators combed through the evidence, a myriad of suspects emerged from the shadows of Brooksville's bustling streets. Dr. Emily Wilson, a respected neuroscientist with a penchant for unlocking the secrets of the mind, arrived at the scene with a furrowed brow, her keen eyes scanning the room for clues. Mr. Jonathan Adams, a charming entrepreneur with a taste for risk, surveyed the scene with a calculating gaze, his smooth demeanor masking a depth of hidden motives. Ms. Jessica Thompson, a savvy businesswoman with a taste for the finer things in life, moved through the crowd with a quiet grace, her elegant facade concealing a turbulent undercurrent of emotions.  Each guest brought their own burdens to the gathering, their tangled relationships and hidden agendas casting a shadow over the proceedings.  As the night wore on, tensions simmered beneath the surface, threatening to erupt into violence at any moment. Amidst whispered accusations and desperate pleas, someone seized a deadly weapon—a sleek letter opener—and unleashed a torrent of violence upon Mr. Parker, snuffing out his life in an instant.  The murder weapon, a once-innocent letter opener now stained with blood and betrayal, lay discarded on the floor, a grim reminder of the horrors that had unfolded. Yet, amidst the chaos and confusion, the identity of the killer remained shrouded in mystery, obscured by a veil of deception and deceit.  Each guest's tangled web of lies and half-truths provided investigators with a tantalizing puzzle, but piecing together the truth would require unraveling the tangled threads of Brooksville's urban landscape.  \n",
            " In the serene town of Maplewood, nestled amidst towering maple trees and babbling brooks, a sinister crime sent shockwaves through the tranquil community. The victim, Mr. William Thompson, a respected local historian known for his meticulous research, was discovered dead in his secluded woodland cabin. The scene was one of history turned to tragedy, with the ancient trees bearing silent witness to the grim tableau within. Mr. Thompson lay motionless on the wooden floor, his expression frozen in a silent scream of terror.  As investigators sifted through the evidence, a diverse array of suspects emerged from the shadows of Maplewood's serene landscape. Dr. Sarah Johnson, a renowned archaeologist with a penchant for uncovering ancient secrets, arrived at the scene with a furrowed brow, her analytical mind already dissecting the situation. Mr. John Wilson, a taciturn lumberjack with a love for the tranquility of the forest, surveyed the scene with a weathered gaze, his rugged exterior betraying little of his true emotions. Ms. Jessica Adams, a charming artist with a flair for the dramatic, moved through the crowd with a graceful stride, her enigmatic demeanor belying a simmering passion beneath the surface.  Each guest brought their own burdens to the gathering, their tangled relationships and hidden agendas casting a shadow over the proceedings.  As the night wore on, tensions simmered beneath the surface, threatening to erupt into violence at any moment. Amidst whispered accusations and tearful confessions, someone seized a deadly weapon—a rusted hunting knife—and brought it crashing down upon Mr. Thompson, extinguishing the light of his life in a single brutal blow.  The murder weapon, a once-innocent knife now stained with blood and betrayal, lay discarded on the floor, a grim reminder of the horrors that had transpired. Yet, amidst the chaos and confusion, the identity of the killer remained a tantalizing mystery, obscured by a veil of deception and deceit.  Each guest's tangled web of lies and half-truths provided investigators with a tantalizing puzzle, but piecing together the truth would require unraveling the tangled threads of Maplewood's serene facade.  \n",
            " Detective Samson arrived at the scene, greeted by flashing police lights and the hushed whispers of onlookers. The crime had occurred in an affluent neighborhood, a stark contrast to the brutality found inside the quaint house. As Samson entered, the stench of blood mingled with the sterile scent of forensic chemicals.  The living room was a disarray of overturned furniture and shattered glass. A body lay sprawled on the floor, covered by a white sheet. The victim, a middle-aged man, showed signs of a violent struggle—bruises on his arms and defensive wounds on his hands. Blood spatter adorned the walls like macabre art, hinting at a frenzied attack.  Searching for clues, Samson found a broken vase near the body. Blood smeared across the shards suggested it was used as a weapon. Among the chaos, a torn piece of fabric caught his eye—a strip of cloth torn from the assailant's clothing, perhaps.  In the adjacent kitchen, the sink overflowed with dirty dishes, contrasting sharply with the precision of a bloodied knife resting in the basin. It was a kitchen staple, but its gruesome use was evident. Beside it, a discarded glove—rubber, surgical, like those used by a paramedic.  Upstairs, the victim's bedroom was surprisingly pristine, except for a single overturned photo frame on the nightstand. Samson lifted it cautiously, revealing a faded picture of the victim smiling with a younger man—perhaps a family member or close friend. The missing man was likely the last person to see the victim alive.  In the basement, Samson discovered a locked safe. Its door stood ajar, contents rifled through. The presence of an empty jewelry box hinted at a possible motive—robbery. However, the killer seemed to have lingered, leaving behind a crucial piece of evidence—a partially burnt note, barely legible.  The investigation continued as Samson interviewed neighbors. One possible suspect was Mrs. Evelyn Grant, the victim's neighbor known for her noisy disputes with him over property boundaries. Witnesses recalled hearing heated arguments between them in recent weeks.  Another suspect was Mark Dawson, a former business partner of the victim. Dawson's financial troubles had been no secret, and rumors swirled that he was desperate for money. Could he have turned to violence to settle his debts?  There was also speculation about a disgruntled former employee, Dr. Paul Granger, who had been let go under contentious circumstances. Dr. Granger had access to medical supplies and knowledge that could aid in staging a murder and escaping detection.  As Samson pieced together these leads, each suspect brought their own motives and opportunities to the table. The challenge now lay in connecting the dots and identifying the true culprit among them.  Days turned to weeks, and leads ran dry. Samson's determination grew, refusing to succumb to the labyrinth of unanswered questions. Then, a breakthrough—an overlooked security camera from a nearby house captured a shadowy figure slipping into the victim's home that fateful night.  As the pieces fell into place, Samson found himself facing the portrait of a killer—a skilled intruder with an intimate vendetta, concealed beneath layers of calculated deceit.  \n",
            " The old mansion stood secluded at the edge of town, surrounded by overgrown gardens and eerie silence. Detective Emily Clarke stepped out of her car, her footsteps echoing in the stillness of the night. Inside, the air was heavy with dust and a faint odor of decay.  In the grand foyer, Emily found the body of a wealthy art collector, Mr. Edward Hartley, sprawled at the foot of a grand staircase. Blood pooled beneath him, staining the ornate carpet. The victim's face bore a look of terror, suggesting a violent struggle before his demise.  Emily surveyed the scene, noting overturned antique furniture and shattered artifacts. A broken statue lay nearby, its marble shards glinting in the dim light. It seemed like a fight had erupted amidst valuable treasures.  Near the victim's hand, Emily discovered a tuft of long, dark hair, clutched in a desperate grip. The presence of this unexpected clue hinted at the involvement of a female assailant.  As Emily ascended the staircase, she noticed a set of footprints smeared with blood, leading towards the study. Inside, drawers had been ransacked, papers strewn across the floor. A valuable painting was missing from the wall—a motive for theft.  Interviews with the staff revealed several possible suspects. Sarah Banks, the victim's personal assistant, had access to the mansion and a close relationship with Mr. Hartley. However, rumors swirled about financial disputes between them.  Another suspect was Jason Reed, a disgruntled artist whose works Mr. Hartley had recently declined to exhibit. Jason had been vocal about his resentment, raising suspicions about possible revenge.  A third person of interest was Mrs. Evelyn Hayes, a neighbor with a history of disagreements over property boundaries. Mrs. Hayes had reportedly expressed envy towards Mr. Hartley's collection, sparking speculation about her involvement in the burglary.  Each suspect had a motive and proximity to the crime scene, making Emily's task of unraveling the truth all the more challenging.  \n",
            " The sun was setting over the small coastal town, casting long shadows across the boardwalk. Detective Liam Johnson arrived at the beachfront cottage, where a grisly scene awaited him. The victim, a local fisherman named Jack Roberts, lay motionless on the porch, a pool of blood seeping into the weathered wooden planks.  Surveying the area, Liam noted a fishing net tangled at the victim's feet, suggesting a struggle. A discarded tackle box nearby had been overturned, its contents scattered in disarray. The salty breeze carried the metallic tang of blood, underscoring the violence of the attack.  Inside the cottage, the living room bore signs of a scuffle—upturned furniture and broken knick-knacks. A family photo lay shattered on the floor, depicting Jack with his two sons, both now estranged and living on opposite ends of the country.  Liam discovered a peculiar clue—a set of footprints leading away from the cottage towards the dunes. The prints were large, likely belonging to a man, and smeared with sand and blood. The killer had left a trail, albeit a vague one.  Interviews with the locals revealed several possible suspects. Liam's attention turned to Frank Miller, a rival fisherman known for his hot temper and past confrontations with Jack over fishing territories. Frank had been seen arguing with Jack at a waterfront bar the night before.  Another suspect was Lily Roberts, Jack's estranged wife. Despite their separation, Lily harbored bitterness towards her ex-husband, particularly regarding their contentious divorce settlement and his refusal to sell the cottage.  A third person of interest was Daniel Hayes, a young drifter who had recently been seen lurking around town. Daniel had a reputation for trouble, and his presence near the crime scene raised suspicions.  Each suspect had a motive and potential connection to Jack Roberts, turning Liam's investigation into a complex puzzle of motives and opportunities.  \n",
            " The moon hung low in the sky, casting a pale glow over the abandoned warehouse district where Detective Sarah Reed had been called to investigate. As she entered the dimly lit building, Sarah's flashlight revealed a scene of chaos. Crates were overturned, and amidst the debris lay the lifeless body of a security guard, shot at close range.  Sarah examined the crime scene, noting the position of the body and the scattered equipment. A bullet casing gleamed near the victim's hand, evidence of a struggle. The air was thick with the metallic scent of blood and the acrid tang of gun smoke.  Nearby, Sarah found a torn piece of fabric caught on a broken crate, suggesting the assailant may have snagged their clothing during the violent encounter. The glint of a discarded badge hinted that the guard had put up a fight before succumbing to the fatal shot.  Further investigation uncovered a security camera mounted high on the wall. Reviewing the footage, Sarah caught a glimpse of a masked figure entering the warehouse shortly before the murder—a valuable lead in the search for the killer's identity.  Interviews with witnesses pointed to several possible suspects. One was Alex Ramirez, a disgruntled former employee of the warehouse who had been fired for theft. Alex had been seen lingering near the premises in the days leading up to the incident.  Another suspect was Vince Thompson, a local gang member known for his violent tendencies. Rumors circulated that Vince had clashed with the security guard over protection money for the warehouse.  A third person of interest was Carla Jenkins, the victim's ex-wife embroiled in a bitter custody battle. Carla had a history of volatile behavior, and her presence near the scene raised suspicions.  Each suspect brought a unique motive and possible connection to the crime, leaving Sarah to piece together the puzzle and uncover the truth behind the guard's untimely death.  \n",
            " The dimly lit alleyway reeked of desperation and secrets. The flickering streetlamp cast elongated shadows on the cracked pavement, as if the very ground held its breath, waiting for justice to unravel the tangled web of deceit. Detective Evelyn Harper stood at the crime scene, her eyes scanning the scene with a mix of determination and weariness. The victim lay sprawled near the dumpster, lifeless eyes staring at the indifferent sky.  Dr. Malcolm Grant, a renowned neuroscientist, had been on the brink of a groundbreaking discovery—a serum that could erase traumatic memories. His research threatened to expose powerful individuals who preferred their sins buried deep within their minds. But now, his own memories were forever silenced.  Among the suspects, Professor Victor Thornfield, a rival scientist, had coveted Dr. Grant's research for years. Their bitter feud over funding and recognition had escalated into whispered threats and clandestine meetings. Thornfield's motivation was clear: eliminate the competition and claim the serum as his own. A torn page from Dr. Grant's notebook revealed a cryptic formula—one that could unlock the serum's potential. Thornfield's fingerprints were smudged on the edge. An anonymous voicemail left on Dr. Grant's phone warned, \"Your secrets won't stay hidden forever.\" The voice bore an eerie resemblance to Thornfield's.  Isabella Sinclair, Dr. Grant's former lover, had vanished from his life after a bitter breakup. She resurfaced recently, desperate and destitute. Her motivation was murky, but Detective Harper sensed more than heartache in her tear-filled eyes. Hidden in Dr. Grant's study, a stack of love letters revealed their passionate affair. The last letter, written in crimson ink, accused him of betrayal. The homeless man who slept in the alley claimed he saw Isabella arguing with Dr. Grant hours before his death.  Mayor Richard Covington, a charismatic politician with a dark side, was another suspect. Dr. Grant's research threatened to expose his involvement in a citywide corruption scandal. The mayor's motivation was survival—silence the scientist, protect his empire. A platinum cufflink, engraved with the mayor's initials, lay near the victim's body. It was stained with blood. The underworld buzzed with tales of the mayor's secret meetings with enforcers. Dr. Grant's death seemed like a message—one that said, \"Cross me, and you'll pay.\"  \n",
            "\n",
            "Ms. Isabella Sanchez\n",
            "Mr. Daniel Thompson\n",
            "Ms. Olivia Parker\n",
            "Mr. James Wilson\n",
            "Ms. Julia Adams\n",
            "Mr. Jonathan Harris\n",
            "Ms. Emily Wilson\n",
            "Ms. Jessica Parker\n",
            "Ms. Lily Parker\n",
            "Mr. Robert Adams\n",
            "Ms. Sarah Evans\n",
            "Dr. Sarah Johnson\n",
            "Ms. Jennifer Adams\n",
            "Dr. Elizabeth Wilson\n",
            "Ms. Lily Thompson\n",
            "Dr. Emily Wilson\n",
            "Ms. Sarah Evans\n",
            "Ms. Lily Thompson\n",
            "Mr. Jonathan Adams\n",
            "Ms. Jessica Adams\n",
            "Dr. Paul Granger\n",
            "Ms. Sarah Banks\n",
            "Mr. Frank Miller\n",
            "Mr. Vince Thompson\n",
            "Mr. Richard Covington\n"
          ]
        }
      ],
      "source": [
        "def parse_text_file(file_path):\n",
        "    descriptions = []\n",
        "    criminals = []\n",
        "    current_description = None\n",
        "    current_criminal = None\n",
        "    parsing_description = False\n",
        "\n",
        "    with open(file_path, 'r') as file:\n",
        "        for line in file:\n",
        "            line = line.strip()  # Remove any leading/trailing whitespace\n",
        "\n",
        "            if line.startswith(\"**DESCRIPTION**\"):\n",
        "                # Start a new description\n",
        "                current_description = \"\"\n",
        "                parsing_description = True\n",
        "                current_criminal = None\n",
        "\n",
        "            elif line.startswith(\"**CRIMINAL**\") and parsing_description:\n",
        "                # Store the criminal name associated with the current description\n",
        "                if current_description is not None:\n",
        "                    criminal_name = line[12:].strip()\n",
        "                    descriptions.append(current_description)\n",
        "                    criminals.append(criminal_name)\n",
        "                    parsing_description = False\n",
        "\n",
        "            elif parsing_description:\n",
        "                # Append to the current description\n",
        "                if current_description is not None:\n",
        "                    current_description += line + \" \"  # Add the line to the current description\n",
        "\n",
        "    return descriptions, criminals\n",
        "\n",
        "# Example usage:\n",
        "file_path = \"data.txt\"  # Update with your file path\n",
        "crime_descriptions, criminal_names = parse_text_file(file_path)\n",
        "\n",
        "for i in crime_descriptions:\n",
        "  print(i)\n",
        "\n",
        "print()\n",
        "\n",
        "for i in criminal_names:\n",
        "  print(i)"
      ]
    },
    {
      "cell_type": "code",
      "execution_count": null,
      "metadata": {
        "colab": {
          "base_uri": "https://localhost:8080/"
        },
        "id": "U6LCCAMCCA6H",
        "outputId": "275e6ded-d951-4baa-cc2f-45540d4639dd"
      },
      "outputs": [
        {
          "name": "stderr",
          "output_type": "stream",
          "text": [
            "Some weights of BertForSequenceClassification were not initialized from the model checkpoint at bert-base-uncased and are newly initialized: ['classifier.bias', 'classifier.weight']\n",
            "You should probably TRAIN this model on a down-stream task to be able to use it for predictions and inference.\n",
            "Epoch 1/100: 100%|██████████| 3/3 [00:01<00:00,  1.57it/s]\n"
          ]
        },
        {
          "name": "stdout",
          "output_type": "stream",
          "text": [
            "Train Epoch 1/100, Loss: 3.4213\n"
          ]
        },
        {
          "name": "stderr",
          "output_type": "stream",
          "text": [
            "Eval Epoch 1/100: 100%|██████████| 1/1 [00:00<00:00,  4.41it/s]\n"
          ]
        },
        {
          "name": "stdout",
          "output_type": "stream",
          "text": [
            "Test Epoch 1/100\n"
          ]
        },
        {
          "name": "stderr",
          "output_type": "stream",
          "text": [
            "Epoch 2/100: 100%|██████████| 3/3 [00:01<00:00,  1.58it/s]\n"
          ]
        },
        {
          "name": "stdout",
          "output_type": "stream",
          "text": [
            "Train Epoch 2/100, Loss: 3.3413\n"
          ]
        },
        {
          "name": "stderr",
          "output_type": "stream",
          "text": [
            "Eval Epoch 2/100: 100%|██████████| 1/1 [00:00<00:00,  4.74it/s]\n"
          ]
        },
        {
          "name": "stdout",
          "output_type": "stream",
          "text": [
            "Test Epoch 2/100\n"
          ]
        },
        {
          "name": "stderr",
          "output_type": "stream",
          "text": [
            "Epoch 3/100: 100%|██████████| 3/3 [00:01<00:00,  1.58it/s]\n"
          ]
        },
        {
          "name": "stdout",
          "output_type": "stream",
          "text": [
            "Train Epoch 3/100, Loss: 3.2093\n"
          ]
        },
        {
          "name": "stderr",
          "output_type": "stream",
          "text": [
            "Eval Epoch 3/100: 100%|██████████| 1/1 [00:00<00:00,  3.80it/s]\n"
          ]
        },
        {
          "name": "stdout",
          "output_type": "stream",
          "text": [
            "Test Epoch 3/100\n"
          ]
        },
        {
          "name": "stderr",
          "output_type": "stream",
          "text": [
            "Epoch 4/100: 100%|██████████| 3/3 [00:01<00:00,  1.59it/s]\n"
          ]
        },
        {
          "name": "stdout",
          "output_type": "stream",
          "text": [
            "Train Epoch 4/100, Loss: 3.1293\n"
          ]
        },
        {
          "name": "stderr",
          "output_type": "stream",
          "text": [
            "Eval Epoch 4/100: 100%|██████████| 1/1 [00:00<00:00,  4.03it/s]\n"
          ]
        },
        {
          "name": "stdout",
          "output_type": "stream",
          "text": [
            "Test Epoch 4/100\n"
          ]
        },
        {
          "name": "stderr",
          "output_type": "stream",
          "text": [
            "Epoch 5/100: 100%|██████████| 3/3 [00:01<00:00,  1.54it/s]\n"
          ]
        },
        {
          "name": "stdout",
          "output_type": "stream",
          "text": [
            "Train Epoch 5/100, Loss: 3.0501\n"
          ]
        },
        {
          "name": "stderr",
          "output_type": "stream",
          "text": [
            "Eval Epoch 5/100: 100%|██████████| 1/1 [00:00<00:00,  4.37it/s]\n"
          ]
        },
        {
          "name": "stdout",
          "output_type": "stream",
          "text": [
            "Test Epoch 5/100\n"
          ]
        },
        {
          "name": "stderr",
          "output_type": "stream",
          "text": [
            "Epoch 6/100: 100%|██████████| 3/3 [00:01<00:00,  1.55it/s]\n"
          ]
        },
        {
          "name": "stdout",
          "output_type": "stream",
          "text": [
            "Train Epoch 6/100, Loss: 3.0868\n"
          ]
        },
        {
          "name": "stderr",
          "output_type": "stream",
          "text": [
            "Eval Epoch 6/100: 100%|██████████| 1/1 [00:00<00:00,  4.02it/s]\n"
          ]
        },
        {
          "name": "stdout",
          "output_type": "stream",
          "text": [
            "Test Epoch 6/100\n"
          ]
        },
        {
          "name": "stderr",
          "output_type": "stream",
          "text": [
            "Epoch 7/100: 100%|██████████| 3/3 [00:01<00:00,  1.55it/s]\n"
          ]
        },
        {
          "name": "stdout",
          "output_type": "stream",
          "text": [
            "Train Epoch 7/100, Loss: 3.0002\n"
          ]
        },
        {
          "name": "stderr",
          "output_type": "stream",
          "text": [
            "Eval Epoch 7/100: 100%|██████████| 1/1 [00:00<00:00,  3.90it/s]\n"
          ]
        },
        {
          "name": "stdout",
          "output_type": "stream",
          "text": [
            "Test Epoch 7/100\n"
          ]
        },
        {
          "name": "stderr",
          "output_type": "stream",
          "text": [
            "Epoch 8/100: 100%|██████████| 3/3 [00:01<00:00,  1.53it/s]\n"
          ]
        },
        {
          "name": "stdout",
          "output_type": "stream",
          "text": [
            "Train Epoch 8/100, Loss: 3.0711\n"
          ]
        },
        {
          "name": "stderr",
          "output_type": "stream",
          "text": [
            "Eval Epoch 8/100: 100%|██████████| 1/1 [00:00<00:00,  3.92it/s]\n"
          ]
        },
        {
          "name": "stdout",
          "output_type": "stream",
          "text": [
            "Test Epoch 8/100\n"
          ]
        },
        {
          "name": "stderr",
          "output_type": "stream",
          "text": [
            "Epoch 9/100: 100%|██████████| 3/3 [00:01<00:00,  1.52it/s]\n"
          ]
        },
        {
          "name": "stdout",
          "output_type": "stream",
          "text": [
            "Train Epoch 9/100, Loss: 2.9806\n"
          ]
        },
        {
          "name": "stderr",
          "output_type": "stream",
          "text": [
            "Eval Epoch 9/100: 100%|██████████| 1/1 [00:00<00:00,  3.84it/s]\n"
          ]
        },
        {
          "name": "stdout",
          "output_type": "stream",
          "text": [
            "Test Epoch 9/100\n"
          ]
        },
        {
          "name": "stderr",
          "output_type": "stream",
          "text": [
            "Epoch 10/100: 100%|██████████| 3/3 [00:02<00:00,  1.50it/s]\n"
          ]
        },
        {
          "name": "stdout",
          "output_type": "stream",
          "text": [
            "Train Epoch 10/100, Loss: 2.9468\n"
          ]
        },
        {
          "name": "stderr",
          "output_type": "stream",
          "text": [
            "Eval Epoch 10/100: 100%|██████████| 1/1 [00:00<00:00,  3.95it/s]\n"
          ]
        },
        {
          "name": "stdout",
          "output_type": "stream",
          "text": [
            "Test Epoch 10/100\n"
          ]
        },
        {
          "name": "stderr",
          "output_type": "stream",
          "text": [
            "Epoch 11/100: 100%|██████████| 3/3 [00:01<00:00,  1.50it/s]\n"
          ]
        },
        {
          "name": "stdout",
          "output_type": "stream",
          "text": [
            "Train Epoch 11/100, Loss: 2.9330\n"
          ]
        },
        {
          "name": "stderr",
          "output_type": "stream",
          "text": [
            "Eval Epoch 11/100: 100%|██████████| 1/1 [00:00<00:00,  3.82it/s]\n"
          ]
        },
        {
          "name": "stdout",
          "output_type": "stream",
          "text": [
            "Test Epoch 11/100\n"
          ]
        },
        {
          "name": "stderr",
          "output_type": "stream",
          "text": [
            "Epoch 12/100: 100%|██████████| 3/3 [00:02<00:00,  1.49it/s]\n"
          ]
        },
        {
          "name": "stdout",
          "output_type": "stream",
          "text": [
            "Train Epoch 12/100, Loss: 2.8151\n"
          ]
        },
        {
          "name": "stderr",
          "output_type": "stream",
          "text": [
            "Eval Epoch 12/100: 100%|██████████| 1/1 [00:00<00:00,  3.79it/s]\n"
          ]
        },
        {
          "name": "stdout",
          "output_type": "stream",
          "text": [
            "Test Epoch 12/100\n"
          ]
        },
        {
          "name": "stderr",
          "output_type": "stream",
          "text": [
            "Epoch 13/100: 100%|██████████| 3/3 [00:02<00:00,  1.48it/s]\n"
          ]
        },
        {
          "name": "stdout",
          "output_type": "stream",
          "text": [
            "Train Epoch 13/100, Loss: 2.5328\n"
          ]
        },
        {
          "name": "stderr",
          "output_type": "stream",
          "text": [
            "Eval Epoch 13/100: 100%|██████████| 1/1 [00:00<00:00,  3.77it/s]\n"
          ]
        },
        {
          "name": "stdout",
          "output_type": "stream",
          "text": [
            "Test Epoch 13/100\n"
          ]
        },
        {
          "name": "stderr",
          "output_type": "stream",
          "text": [
            "Epoch 14/100: 100%|██████████| 3/3 [00:02<00:00,  1.47it/s]\n"
          ]
        },
        {
          "name": "stdout",
          "output_type": "stream",
          "text": [
            "Train Epoch 14/100, Loss: 2.2933\n"
          ]
        },
        {
          "name": "stderr",
          "output_type": "stream",
          "text": [
            "Eval Epoch 14/100: 100%|██████████| 1/1 [00:00<00:00,  3.80it/s]\n"
          ]
        },
        {
          "name": "stdout",
          "output_type": "stream",
          "text": [
            "Test Epoch 14/100\n"
          ]
        },
        {
          "name": "stderr",
          "output_type": "stream",
          "text": [
            "Epoch 15/100: 100%|██████████| 3/3 [00:02<00:00,  1.46it/s]\n"
          ]
        },
        {
          "name": "stdout",
          "output_type": "stream",
          "text": [
            "Train Epoch 15/100, Loss: 2.0548\n"
          ]
        },
        {
          "name": "stderr",
          "output_type": "stream",
          "text": [
            "Eval Epoch 15/100: 100%|██████████| 1/1 [00:00<00:00,  3.83it/s]\n"
          ]
        },
        {
          "name": "stdout",
          "output_type": "stream",
          "text": [
            "Test Epoch 15/100\n"
          ]
        },
        {
          "name": "stderr",
          "output_type": "stream",
          "text": [
            "Epoch 16/100: 100%|██████████| 3/3 [00:02<00:00,  1.49it/s]\n"
          ]
        },
        {
          "name": "stdout",
          "output_type": "stream",
          "text": [
            "Train Epoch 16/100, Loss: 1.8445\n"
          ]
        },
        {
          "name": "stderr",
          "output_type": "stream",
          "text": [
            "Eval Epoch 16/100: 100%|██████████| 1/1 [00:00<00:00,  3.80it/s]\n"
          ]
        },
        {
          "name": "stdout",
          "output_type": "stream",
          "text": [
            "Test Epoch 16/100\n"
          ]
        },
        {
          "name": "stderr",
          "output_type": "stream",
          "text": [
            "Epoch 17/100: 100%|██████████| 3/3 [00:02<00:00,  1.49it/s]\n"
          ]
        },
        {
          "name": "stdout",
          "output_type": "stream",
          "text": [
            "Train Epoch 17/100, Loss: 1.5653\n"
          ]
        },
        {
          "name": "stderr",
          "output_type": "stream",
          "text": [
            "Eval Epoch 17/100: 100%|██████████| 1/1 [00:00<00:00,  3.81it/s]\n"
          ]
        },
        {
          "name": "stdout",
          "output_type": "stream",
          "text": [
            "Test Epoch 17/100\n"
          ]
        },
        {
          "name": "stderr",
          "output_type": "stream",
          "text": [
            "Epoch 18/100: 100%|██████████| 3/3 [00:01<00:00,  1.50it/s]\n"
          ]
        },
        {
          "name": "stdout",
          "output_type": "stream",
          "text": [
            "Train Epoch 18/100, Loss: 1.3695\n"
          ]
        },
        {
          "name": "stderr",
          "output_type": "stream",
          "text": [
            "Eval Epoch 18/100: 100%|██████████| 1/1 [00:00<00:00,  3.84it/s]\n"
          ]
        },
        {
          "name": "stdout",
          "output_type": "stream",
          "text": [
            "Test Epoch 18/100\n"
          ]
        },
        {
          "name": "stderr",
          "output_type": "stream",
          "text": [
            "Epoch 19/100: 100%|██████████| 3/3 [00:01<00:00,  1.51it/s]\n"
          ]
        },
        {
          "name": "stdout",
          "output_type": "stream",
          "text": [
            "Train Epoch 19/100, Loss: 1.1620\n"
          ]
        },
        {
          "name": "stderr",
          "output_type": "stream",
          "text": [
            "Eval Epoch 19/100: 100%|██████████| 1/1 [00:00<00:00,  3.94it/s]\n"
          ]
        },
        {
          "name": "stdout",
          "output_type": "stream",
          "text": [
            "Test Epoch 19/100\n"
          ]
        },
        {
          "name": "stderr",
          "output_type": "stream",
          "text": [
            "Epoch 20/100: 100%|██████████| 3/3 [00:01<00:00,  1.52it/s]\n"
          ]
        },
        {
          "name": "stdout",
          "output_type": "stream",
          "text": [
            "Train Epoch 20/100, Loss: 1.0506\n"
          ]
        },
        {
          "name": "stderr",
          "output_type": "stream",
          "text": [
            "Eval Epoch 20/100: 100%|██████████| 1/1 [00:00<00:00,  3.83it/s]\n"
          ]
        },
        {
          "name": "stdout",
          "output_type": "stream",
          "text": [
            "Test Epoch 20/100\n"
          ]
        },
        {
          "name": "stderr",
          "output_type": "stream",
          "text": [
            "Epoch 21/100: 100%|██████████| 3/3 [00:01<00:00,  1.54it/s]\n"
          ]
        },
        {
          "name": "stdout",
          "output_type": "stream",
          "text": [
            "Train Epoch 21/100, Loss: 0.8169\n"
          ]
        },
        {
          "name": "stderr",
          "output_type": "stream",
          "text": [
            "Eval Epoch 21/100: 100%|██████████| 1/1 [00:00<00:00,  3.92it/s]\n"
          ]
        },
        {
          "name": "stdout",
          "output_type": "stream",
          "text": [
            "Test Epoch 21/100\n"
          ]
        },
        {
          "name": "stderr",
          "output_type": "stream",
          "text": [
            "Epoch 22/100: 100%|██████████| 3/3 [00:01<00:00,  1.54it/s]\n"
          ]
        },
        {
          "name": "stdout",
          "output_type": "stream",
          "text": [
            "Train Epoch 22/100, Loss: 0.6903\n"
          ]
        },
        {
          "name": "stderr",
          "output_type": "stream",
          "text": [
            "Eval Epoch 22/100: 100%|██████████| 1/1 [00:00<00:00,  4.07it/s]\n"
          ]
        },
        {
          "name": "stdout",
          "output_type": "stream",
          "text": [
            "Test Epoch 22/100\n"
          ]
        },
        {
          "name": "stderr",
          "output_type": "stream",
          "text": [
            "Epoch 23/100: 100%|██████████| 3/3 [00:01<00:00,  1.54it/s]\n"
          ]
        },
        {
          "name": "stdout",
          "output_type": "stream",
          "text": [
            "Train Epoch 23/100, Loss: 0.4853\n"
          ]
        },
        {
          "name": "stderr",
          "output_type": "stream",
          "text": [
            "Eval Epoch 23/100: 100%|██████████| 1/1 [00:00<00:00,  4.02it/s]\n"
          ]
        },
        {
          "name": "stdout",
          "output_type": "stream",
          "text": [
            "Test Epoch 23/100\n"
          ]
        },
        {
          "name": "stderr",
          "output_type": "stream",
          "text": [
            "Epoch 24/100: 100%|██████████| 3/3 [00:01<00:00,  1.55it/s]\n"
          ]
        },
        {
          "name": "stdout",
          "output_type": "stream",
          "text": [
            "Train Epoch 24/100, Loss: 0.4146\n"
          ]
        },
        {
          "name": "stderr",
          "output_type": "stream",
          "text": [
            "Eval Epoch 24/100: 100%|██████████| 1/1 [00:00<00:00,  4.02it/s]\n"
          ]
        },
        {
          "name": "stdout",
          "output_type": "stream",
          "text": [
            "Test Epoch 24/100\n"
          ]
        },
        {
          "name": "stderr",
          "output_type": "stream",
          "text": [
            "Epoch 25/100: 100%|██████████| 3/3 [00:01<00:00,  1.56it/s]\n"
          ]
        },
        {
          "name": "stdout",
          "output_type": "stream",
          "text": [
            "Train Epoch 25/100, Loss: 0.3882\n"
          ]
        },
        {
          "name": "stderr",
          "output_type": "stream",
          "text": [
            "Eval Epoch 25/100: 100%|██████████| 1/1 [00:00<00:00,  3.99it/s]\n"
          ]
        },
        {
          "name": "stdout",
          "output_type": "stream",
          "text": [
            "Test Epoch 25/100\n"
          ]
        },
        {
          "name": "stderr",
          "output_type": "stream",
          "text": [
            "Epoch 26/100: 100%|██████████| 3/3 [00:01<00:00,  1.55it/s]\n"
          ]
        },
        {
          "name": "stdout",
          "output_type": "stream",
          "text": [
            "Train Epoch 26/100, Loss: 0.2764\n"
          ]
        },
        {
          "name": "stderr",
          "output_type": "stream",
          "text": [
            "Eval Epoch 26/100: 100%|██████████| 1/1 [00:00<00:00,  4.15it/s]\n"
          ]
        },
        {
          "name": "stdout",
          "output_type": "stream",
          "text": [
            "Test Epoch 26/100\n"
          ]
        },
        {
          "name": "stderr",
          "output_type": "stream",
          "text": [
            "Epoch 27/100: 100%|██████████| 3/3 [00:01<00:00,  1.58it/s]\n"
          ]
        },
        {
          "name": "stdout",
          "output_type": "stream",
          "text": [
            "Train Epoch 27/100, Loss: 0.2482\n"
          ]
        },
        {
          "name": "stderr",
          "output_type": "stream",
          "text": [
            "Eval Epoch 27/100: 100%|██████████| 1/1 [00:00<00:00,  3.97it/s]\n"
          ]
        },
        {
          "name": "stdout",
          "output_type": "stream",
          "text": [
            "Test Epoch 27/100\n"
          ]
        },
        {
          "name": "stderr",
          "output_type": "stream",
          "text": [
            "Epoch 28/100: 100%|██████████| 3/3 [00:01<00:00,  1.58it/s]\n"
          ]
        },
        {
          "name": "stdout",
          "output_type": "stream",
          "text": [
            "Train Epoch 28/100, Loss: 0.2251\n"
          ]
        },
        {
          "name": "stderr",
          "output_type": "stream",
          "text": [
            "Eval Epoch 28/100: 100%|██████████| 1/1 [00:00<00:00,  4.09it/s]\n"
          ]
        },
        {
          "name": "stdout",
          "output_type": "stream",
          "text": [
            "Test Epoch 28/100\n"
          ]
        },
        {
          "name": "stderr",
          "output_type": "stream",
          "text": [
            "Epoch 29/100: 100%|██████████| 3/3 [00:01<00:00,  1.58it/s]\n"
          ]
        },
        {
          "name": "stdout",
          "output_type": "stream",
          "text": [
            "Train Epoch 29/100, Loss: 0.1688\n"
          ]
        },
        {
          "name": "stderr",
          "output_type": "stream",
          "text": [
            "Eval Epoch 29/100: 100%|██████████| 1/1 [00:00<00:00,  4.16it/s]\n"
          ]
        },
        {
          "name": "stdout",
          "output_type": "stream",
          "text": [
            "Test Epoch 29/100\n"
          ]
        },
        {
          "name": "stderr",
          "output_type": "stream",
          "text": [
            "Epoch 30/100: 100%|██████████| 3/3 [00:01<00:00,  1.59it/s]\n"
          ]
        },
        {
          "name": "stdout",
          "output_type": "stream",
          "text": [
            "Train Epoch 30/100, Loss: 0.1337\n"
          ]
        },
        {
          "name": "stderr",
          "output_type": "stream",
          "text": [
            "Eval Epoch 30/100: 100%|██████████| 1/1 [00:00<00:00,  4.02it/s]\n"
          ]
        },
        {
          "name": "stdout",
          "output_type": "stream",
          "text": [
            "Test Epoch 30/100\n"
          ]
        },
        {
          "name": "stderr",
          "output_type": "stream",
          "text": [
            "Epoch 31/100: 100%|██████████| 3/3 [00:01<00:00,  1.57it/s]\n"
          ]
        },
        {
          "name": "stdout",
          "output_type": "stream",
          "text": [
            "Train Epoch 31/100, Loss: 0.1103\n"
          ]
        },
        {
          "name": "stderr",
          "output_type": "stream",
          "text": [
            "Eval Epoch 31/100: 100%|██████████| 1/1 [00:00<00:00,  4.15it/s]\n"
          ]
        },
        {
          "name": "stdout",
          "output_type": "stream",
          "text": [
            "Test Epoch 31/100\n"
          ]
        },
        {
          "name": "stderr",
          "output_type": "stream",
          "text": [
            "Epoch 32/100: 100%|██████████| 3/3 [00:01<00:00,  1.59it/s]\n"
          ]
        },
        {
          "name": "stdout",
          "output_type": "stream",
          "text": [
            "Train Epoch 32/100, Loss: 0.1076\n"
          ]
        },
        {
          "name": "stderr",
          "output_type": "stream",
          "text": [
            "Eval Epoch 32/100: 100%|██████████| 1/1 [00:00<00:00,  4.09it/s]\n"
          ]
        },
        {
          "name": "stdout",
          "output_type": "stream",
          "text": [
            "Test Epoch 32/100\n"
          ]
        },
        {
          "name": "stderr",
          "output_type": "stream",
          "text": [
            "Epoch 33/100: 100%|██████████| 3/3 [00:01<00:00,  1.58it/s]\n"
          ]
        },
        {
          "name": "stdout",
          "output_type": "stream",
          "text": [
            "Train Epoch 33/100, Loss: 0.0784\n"
          ]
        },
        {
          "name": "stderr",
          "output_type": "stream",
          "text": [
            "Eval Epoch 33/100: 100%|██████████| 1/1 [00:00<00:00,  4.10it/s]\n"
          ]
        },
        {
          "name": "stdout",
          "output_type": "stream",
          "text": [
            "Test Epoch 33/100\n"
          ]
        },
        {
          "name": "stderr",
          "output_type": "stream",
          "text": [
            "Epoch 34/100: 100%|██████████| 3/3 [00:01<00:00,  1.58it/s]\n"
          ]
        },
        {
          "name": "stdout",
          "output_type": "stream",
          "text": [
            "Train Epoch 34/100, Loss: 0.0694\n"
          ]
        },
        {
          "name": "stderr",
          "output_type": "stream",
          "text": [
            "Eval Epoch 34/100: 100%|██████████| 1/1 [00:00<00:00,  4.08it/s]\n"
          ]
        },
        {
          "name": "stdout",
          "output_type": "stream",
          "text": [
            "Test Epoch 34/100\n"
          ]
        },
        {
          "name": "stderr",
          "output_type": "stream",
          "text": [
            "Epoch 35/100: 100%|██████████| 3/3 [00:01<00:00,  1.58it/s]\n"
          ]
        },
        {
          "name": "stdout",
          "output_type": "stream",
          "text": [
            "Train Epoch 35/100, Loss: 0.0588\n"
          ]
        },
        {
          "name": "stderr",
          "output_type": "stream",
          "text": [
            "Eval Epoch 35/100: 100%|██████████| 1/1 [00:00<00:00,  4.05it/s]\n"
          ]
        },
        {
          "name": "stdout",
          "output_type": "stream",
          "text": [
            "Test Epoch 35/100\n"
          ]
        },
        {
          "name": "stderr",
          "output_type": "stream",
          "text": [
            "Epoch 36/100: 100%|██████████| 3/3 [00:01<00:00,  1.58it/s]\n"
          ]
        },
        {
          "name": "stdout",
          "output_type": "stream",
          "text": [
            "Train Epoch 36/100, Loss: 0.0583\n"
          ]
        },
        {
          "name": "stderr",
          "output_type": "stream",
          "text": [
            "Eval Epoch 36/100: 100%|██████████| 1/1 [00:00<00:00,  4.04it/s]\n"
          ]
        },
        {
          "name": "stdout",
          "output_type": "stream",
          "text": [
            "Test Epoch 36/100\n"
          ]
        },
        {
          "name": "stderr",
          "output_type": "stream",
          "text": [
            "Epoch 37/100: 100%|██████████| 3/3 [00:01<00:00,  1.58it/s]\n"
          ]
        },
        {
          "name": "stdout",
          "output_type": "stream",
          "text": [
            "Train Epoch 37/100, Loss: 0.0511\n"
          ]
        },
        {
          "name": "stderr",
          "output_type": "stream",
          "text": [
            "Eval Epoch 37/100: 100%|██████████| 1/1 [00:00<00:00,  4.07it/s]\n"
          ]
        },
        {
          "name": "stdout",
          "output_type": "stream",
          "text": [
            "Test Epoch 37/100\n"
          ]
        },
        {
          "name": "stderr",
          "output_type": "stream",
          "text": [
            "Epoch 38/100: 100%|██████████| 3/3 [00:01<00:00,  1.58it/s]\n"
          ]
        },
        {
          "name": "stdout",
          "output_type": "stream",
          "text": [
            "Train Epoch 38/100, Loss: 0.0501\n"
          ]
        },
        {
          "name": "stderr",
          "output_type": "stream",
          "text": [
            "Eval Epoch 38/100: 100%|██████████| 1/1 [00:00<00:00,  4.11it/s]\n"
          ]
        },
        {
          "name": "stdout",
          "output_type": "stream",
          "text": [
            "Test Epoch 38/100\n"
          ]
        },
        {
          "name": "stderr",
          "output_type": "stream",
          "text": [
            "Epoch 39/100: 100%|██████████| 3/3 [00:01<00:00,  1.57it/s]\n"
          ]
        },
        {
          "name": "stdout",
          "output_type": "stream",
          "text": [
            "Train Epoch 39/100, Loss: 0.0419\n"
          ]
        },
        {
          "name": "stderr",
          "output_type": "stream",
          "text": [
            "Eval Epoch 39/100: 100%|██████████| 1/1 [00:00<00:00,  4.00it/s]\n"
          ]
        },
        {
          "name": "stdout",
          "output_type": "stream",
          "text": [
            "Test Epoch 39/100\n"
          ]
        },
        {
          "name": "stderr",
          "output_type": "stream",
          "text": [
            "Epoch 40/100: 100%|██████████| 3/3 [00:01<00:00,  1.56it/s]\n"
          ]
        },
        {
          "name": "stdout",
          "output_type": "stream",
          "text": [
            "Train Epoch 40/100, Loss: 0.0399\n"
          ]
        },
        {
          "name": "stderr",
          "output_type": "stream",
          "text": [
            "Eval Epoch 40/100: 100%|██████████| 1/1 [00:00<00:00,  4.01it/s]\n"
          ]
        },
        {
          "name": "stdout",
          "output_type": "stream",
          "text": [
            "Test Epoch 40/100\n"
          ]
        },
        {
          "name": "stderr",
          "output_type": "stream",
          "text": [
            "Epoch 41/100: 100%|██████████| 3/3 [00:01<00:00,  1.56it/s]\n"
          ]
        },
        {
          "name": "stdout",
          "output_type": "stream",
          "text": [
            "Train Epoch 41/100, Loss: 0.0384\n"
          ]
        },
        {
          "name": "stderr",
          "output_type": "stream",
          "text": [
            "Eval Epoch 41/100: 100%|██████████| 1/1 [00:00<00:00,  4.12it/s]\n"
          ]
        },
        {
          "name": "stdout",
          "output_type": "stream",
          "text": [
            "Test Epoch 41/100\n"
          ]
        },
        {
          "name": "stderr",
          "output_type": "stream",
          "text": [
            "Epoch 42/100: 100%|██████████| 3/3 [00:01<00:00,  1.56it/s]\n"
          ]
        },
        {
          "name": "stdout",
          "output_type": "stream",
          "text": [
            "Train Epoch 42/100, Loss: 0.0350\n"
          ]
        },
        {
          "name": "stderr",
          "output_type": "stream",
          "text": [
            "Eval Epoch 42/100: 100%|██████████| 1/1 [00:00<00:00,  3.93it/s]\n"
          ]
        },
        {
          "name": "stdout",
          "output_type": "stream",
          "text": [
            "Test Epoch 42/100\n"
          ]
        },
        {
          "name": "stderr",
          "output_type": "stream",
          "text": [
            "Epoch 43/100: 100%|██████████| 3/3 [00:01<00:00,  1.56it/s]\n"
          ]
        },
        {
          "name": "stdout",
          "output_type": "stream",
          "text": [
            "Train Epoch 43/100, Loss: 0.0357\n"
          ]
        },
        {
          "name": "stderr",
          "output_type": "stream",
          "text": [
            "Eval Epoch 43/100: 100%|██████████| 1/1 [00:00<00:00,  4.00it/s]\n"
          ]
        },
        {
          "name": "stdout",
          "output_type": "stream",
          "text": [
            "Test Epoch 43/100\n"
          ]
        },
        {
          "name": "stderr",
          "output_type": "stream",
          "text": [
            "Epoch 44/100: 100%|██████████| 3/3 [00:01<00:00,  1.55it/s]\n"
          ]
        },
        {
          "name": "stdout",
          "output_type": "stream",
          "text": [
            "Train Epoch 44/100, Loss: 0.0338\n"
          ]
        },
        {
          "name": "stderr",
          "output_type": "stream",
          "text": [
            "Eval Epoch 44/100: 100%|██████████| 1/1 [00:00<00:00,  3.96it/s]\n"
          ]
        },
        {
          "name": "stdout",
          "output_type": "stream",
          "text": [
            "Test Epoch 44/100\n"
          ]
        },
        {
          "name": "stderr",
          "output_type": "stream",
          "text": [
            "Epoch 45/100: 100%|██████████| 3/3 [00:01<00:00,  1.55it/s]\n"
          ]
        },
        {
          "name": "stdout",
          "output_type": "stream",
          "text": [
            "Train Epoch 45/100, Loss: 0.0305\n"
          ]
        },
        {
          "name": "stderr",
          "output_type": "stream",
          "text": [
            "Eval Epoch 45/100: 100%|██████████| 1/1 [00:00<00:00,  3.98it/s]\n"
          ]
        },
        {
          "name": "stdout",
          "output_type": "stream",
          "text": [
            "Test Epoch 45/100\n"
          ]
        },
        {
          "name": "stderr",
          "output_type": "stream",
          "text": [
            "Epoch 46/100: 100%|██████████| 3/3 [00:01<00:00,  1.54it/s]\n"
          ]
        },
        {
          "name": "stdout",
          "output_type": "stream",
          "text": [
            "Train Epoch 46/100, Loss: 0.0275\n"
          ]
        },
        {
          "name": "stderr",
          "output_type": "stream",
          "text": [
            "Eval Epoch 46/100: 100%|██████████| 1/1 [00:00<00:00,  3.89it/s]\n"
          ]
        },
        {
          "name": "stdout",
          "output_type": "stream",
          "text": [
            "Test Epoch 46/100\n"
          ]
        },
        {
          "name": "stderr",
          "output_type": "stream",
          "text": [
            "Epoch 47/100: 100%|██████████| 3/3 [00:01<00:00,  1.55it/s]\n"
          ]
        },
        {
          "name": "stdout",
          "output_type": "stream",
          "text": [
            "Train Epoch 47/100, Loss: 0.0297\n"
          ]
        },
        {
          "name": "stderr",
          "output_type": "stream",
          "text": [
            "Eval Epoch 47/100: 100%|██████████| 1/1 [00:00<00:00,  3.93it/s]\n"
          ]
        },
        {
          "name": "stdout",
          "output_type": "stream",
          "text": [
            "Test Epoch 47/100\n"
          ]
        },
        {
          "name": "stderr",
          "output_type": "stream",
          "text": [
            "Epoch 48/100: 100%|██████████| 3/3 [00:01<00:00,  1.52it/s]\n"
          ]
        },
        {
          "name": "stdout",
          "output_type": "stream",
          "text": [
            "Train Epoch 48/100, Loss: 0.0295\n"
          ]
        },
        {
          "name": "stderr",
          "output_type": "stream",
          "text": [
            "Eval Epoch 48/100: 100%|██████████| 1/1 [00:00<00:00,  4.33it/s]\n"
          ]
        },
        {
          "name": "stdout",
          "output_type": "stream",
          "text": [
            "Test Epoch 48/100\n"
          ]
        },
        {
          "name": "stderr",
          "output_type": "stream",
          "text": [
            "Epoch 49/100: 100%|██████████| 3/3 [00:01<00:00,  1.54it/s]\n"
          ]
        },
        {
          "name": "stdout",
          "output_type": "stream",
          "text": [
            "Train Epoch 49/100, Loss: 0.0255\n"
          ]
        },
        {
          "name": "stderr",
          "output_type": "stream",
          "text": [
            "Eval Epoch 49/100: 100%|██████████| 1/1 [00:00<00:00,  3.96it/s]\n"
          ]
        },
        {
          "name": "stdout",
          "output_type": "stream",
          "text": [
            "Test Epoch 49/100\n"
          ]
        },
        {
          "name": "stderr",
          "output_type": "stream",
          "text": [
            "Epoch 50/100: 100%|██████████| 3/3 [00:01<00:00,  1.53it/s]\n"
          ]
        },
        {
          "name": "stdout",
          "output_type": "stream",
          "text": [
            "Train Epoch 50/100, Loss: 0.0250\n"
          ]
        },
        {
          "name": "stderr",
          "output_type": "stream",
          "text": [
            "Eval Epoch 50/100: 100%|██████████| 1/1 [00:00<00:00,  3.92it/s]\n"
          ]
        },
        {
          "name": "stdout",
          "output_type": "stream",
          "text": [
            "Test Epoch 50/100\n"
          ]
        },
        {
          "name": "stderr",
          "output_type": "stream",
          "text": [
            "Epoch 51/100: 100%|██████████| 3/3 [00:01<00:00,  1.53it/s]\n"
          ]
        },
        {
          "name": "stdout",
          "output_type": "stream",
          "text": [
            "Train Epoch 51/100, Loss: 0.0254\n"
          ]
        },
        {
          "name": "stderr",
          "output_type": "stream",
          "text": [
            "Eval Epoch 51/100: 100%|██████████| 1/1 [00:00<00:00,  3.94it/s]\n"
          ]
        },
        {
          "name": "stdout",
          "output_type": "stream",
          "text": [
            "Test Epoch 51/100\n"
          ]
        },
        {
          "name": "stderr",
          "output_type": "stream",
          "text": [
            "Epoch 52/100: 100%|██████████| 3/3 [00:01<00:00,  1.54it/s]\n"
          ]
        },
        {
          "name": "stdout",
          "output_type": "stream",
          "text": [
            "Train Epoch 52/100, Loss: 0.0235\n"
          ]
        },
        {
          "name": "stderr",
          "output_type": "stream",
          "text": [
            "Eval Epoch 52/100: 100%|██████████| 1/1 [00:00<00:00,  3.87it/s]\n"
          ]
        },
        {
          "name": "stdout",
          "output_type": "stream",
          "text": [
            "Test Epoch 52/100\n"
          ]
        },
        {
          "name": "stderr",
          "output_type": "stream",
          "text": [
            "Epoch 53/100: 100%|██████████| 3/3 [00:01<00:00,  1.53it/s]\n"
          ]
        },
        {
          "name": "stdout",
          "output_type": "stream",
          "text": [
            "Train Epoch 53/100, Loss: 0.0227\n"
          ]
        },
        {
          "name": "stderr",
          "output_type": "stream",
          "text": [
            "Eval Epoch 53/100: 100%|██████████| 1/1 [00:00<00:00,  4.06it/s]\n"
          ]
        },
        {
          "name": "stdout",
          "output_type": "stream",
          "text": [
            "Test Epoch 53/100\n"
          ]
        },
        {
          "name": "stderr",
          "output_type": "stream",
          "text": [
            "Epoch 54/100: 100%|██████████| 3/3 [00:01<00:00,  1.53it/s]\n"
          ]
        },
        {
          "name": "stdout",
          "output_type": "stream",
          "text": [
            "Train Epoch 54/100, Loss: 0.0223\n"
          ]
        },
        {
          "name": "stderr",
          "output_type": "stream",
          "text": [
            "Eval Epoch 54/100: 100%|██████████| 1/1 [00:00<00:00,  4.20it/s]\n"
          ]
        },
        {
          "name": "stdout",
          "output_type": "stream",
          "text": [
            "Test Epoch 54/100\n"
          ]
        },
        {
          "name": "stderr",
          "output_type": "stream",
          "text": [
            "Epoch 55/100: 100%|██████████| 3/3 [00:01<00:00,  1.54it/s]\n"
          ]
        },
        {
          "name": "stdout",
          "output_type": "stream",
          "text": [
            "Train Epoch 55/100, Loss: 0.0213\n"
          ]
        },
        {
          "name": "stderr",
          "output_type": "stream",
          "text": [
            "Eval Epoch 55/100: 100%|██████████| 1/1 [00:00<00:00,  3.90it/s]\n"
          ]
        },
        {
          "name": "stdout",
          "output_type": "stream",
          "text": [
            "Test Epoch 55/100\n"
          ]
        },
        {
          "name": "stderr",
          "output_type": "stream",
          "text": [
            "Epoch 56/100: 100%|██████████| 3/3 [00:01<00:00,  1.54it/s]\n"
          ]
        },
        {
          "name": "stdout",
          "output_type": "stream",
          "text": [
            "Train Epoch 56/100, Loss: 0.0210\n"
          ]
        },
        {
          "name": "stderr",
          "output_type": "stream",
          "text": [
            "Eval Epoch 56/100: 100%|██████████| 1/1 [00:00<00:00,  3.89it/s]\n"
          ]
        },
        {
          "name": "stdout",
          "output_type": "stream",
          "text": [
            "Test Epoch 56/100\n"
          ]
        },
        {
          "name": "stderr",
          "output_type": "stream",
          "text": [
            "Epoch 57/100: 100%|██████████| 3/3 [00:01<00:00,  1.54it/s]\n"
          ]
        },
        {
          "name": "stdout",
          "output_type": "stream",
          "text": [
            "Train Epoch 57/100, Loss: 0.0205\n"
          ]
        },
        {
          "name": "stderr",
          "output_type": "stream",
          "text": [
            "Eval Epoch 57/100: 100%|██████████| 1/1 [00:00<00:00,  4.01it/s]\n"
          ]
        },
        {
          "name": "stdout",
          "output_type": "stream",
          "text": [
            "Test Epoch 57/100\n"
          ]
        },
        {
          "name": "stderr",
          "output_type": "stream",
          "text": [
            "Epoch 58/100: 100%|██████████| 3/3 [00:01<00:00,  1.54it/s]\n"
          ]
        },
        {
          "name": "stdout",
          "output_type": "stream",
          "text": [
            "Train Epoch 58/100, Loss: 0.0200\n"
          ]
        },
        {
          "name": "stderr",
          "output_type": "stream",
          "text": [
            "Eval Epoch 58/100: 100%|██████████| 1/1 [00:00<00:00,  3.93it/s]\n"
          ]
        },
        {
          "name": "stdout",
          "output_type": "stream",
          "text": [
            "Test Epoch 58/100\n"
          ]
        },
        {
          "name": "stderr",
          "output_type": "stream",
          "text": [
            "Epoch 59/100: 100%|██████████| 3/3 [00:01<00:00,  1.53it/s]\n"
          ]
        },
        {
          "name": "stdout",
          "output_type": "stream",
          "text": [
            "Train Epoch 59/100, Loss: 0.0198\n"
          ]
        },
        {
          "name": "stderr",
          "output_type": "stream",
          "text": [
            "Eval Epoch 59/100: 100%|██████████| 1/1 [00:00<00:00,  4.02it/s]\n"
          ]
        },
        {
          "name": "stdout",
          "output_type": "stream",
          "text": [
            "Test Epoch 59/100\n"
          ]
        },
        {
          "name": "stderr",
          "output_type": "stream",
          "text": [
            "Epoch 60/100: 100%|██████████| 3/3 [00:01<00:00,  1.54it/s]\n"
          ]
        },
        {
          "name": "stdout",
          "output_type": "stream",
          "text": [
            "Train Epoch 60/100, Loss: 0.0191\n"
          ]
        },
        {
          "name": "stderr",
          "output_type": "stream",
          "text": [
            "Eval Epoch 60/100: 100%|██████████| 1/1 [00:00<00:00,  4.12it/s]\n"
          ]
        },
        {
          "name": "stdout",
          "output_type": "stream",
          "text": [
            "Test Epoch 60/100\n"
          ]
        },
        {
          "name": "stderr",
          "output_type": "stream",
          "text": [
            "Epoch 61/100: 100%|██████████| 3/3 [00:01<00:00,  1.55it/s]\n"
          ]
        },
        {
          "name": "stdout",
          "output_type": "stream",
          "text": [
            "Train Epoch 61/100, Loss: 0.0187\n"
          ]
        },
        {
          "name": "stderr",
          "output_type": "stream",
          "text": [
            "Eval Epoch 61/100: 100%|██████████| 1/1 [00:00<00:00,  3.95it/s]\n"
          ]
        },
        {
          "name": "stdout",
          "output_type": "stream",
          "text": [
            "Test Epoch 61/100\n"
          ]
        },
        {
          "name": "stderr",
          "output_type": "stream",
          "text": [
            "Epoch 62/100: 100%|██████████| 3/3 [00:01<00:00,  1.55it/s]\n"
          ]
        },
        {
          "name": "stdout",
          "output_type": "stream",
          "text": [
            "Train Epoch 62/100, Loss: 0.0177\n"
          ]
        },
        {
          "name": "stderr",
          "output_type": "stream",
          "text": [
            "Eval Epoch 62/100: 100%|██████████| 1/1 [00:00<00:00,  3.98it/s]\n"
          ]
        },
        {
          "name": "stdout",
          "output_type": "stream",
          "text": [
            "Test Epoch 62/100\n"
          ]
        },
        {
          "name": "stderr",
          "output_type": "stream",
          "text": [
            "Epoch 63/100: 100%|██████████| 3/3 [00:01<00:00,  1.55it/s]\n"
          ]
        },
        {
          "name": "stdout",
          "output_type": "stream",
          "text": [
            "Train Epoch 63/100, Loss: 0.0174\n"
          ]
        },
        {
          "name": "stderr",
          "output_type": "stream",
          "text": [
            "Eval Epoch 63/100: 100%|██████████| 1/1 [00:00<00:00,  3.98it/s]\n"
          ]
        },
        {
          "name": "stdout",
          "output_type": "stream",
          "text": [
            "Test Epoch 63/100\n"
          ]
        },
        {
          "name": "stderr",
          "output_type": "stream",
          "text": [
            "Epoch 64/100: 100%|██████████| 3/3 [00:01<00:00,  1.54it/s]\n"
          ]
        },
        {
          "name": "stdout",
          "output_type": "stream",
          "text": [
            "Train Epoch 64/100, Loss: 0.0174\n"
          ]
        },
        {
          "name": "stderr",
          "output_type": "stream",
          "text": [
            "Eval Epoch 64/100: 100%|██████████| 1/1 [00:00<00:00,  4.17it/s]\n"
          ]
        },
        {
          "name": "stdout",
          "output_type": "stream",
          "text": [
            "Test Epoch 64/100\n"
          ]
        },
        {
          "name": "stderr",
          "output_type": "stream",
          "text": [
            "Epoch 65/100: 100%|██████████| 3/3 [00:01<00:00,  1.55it/s]\n"
          ]
        },
        {
          "name": "stdout",
          "output_type": "stream",
          "text": [
            "Train Epoch 65/100, Loss: 0.0157\n"
          ]
        },
        {
          "name": "stderr",
          "output_type": "stream",
          "text": [
            "Eval Epoch 65/100: 100%|██████████| 1/1 [00:00<00:00,  4.00it/s]\n"
          ]
        },
        {
          "name": "stdout",
          "output_type": "stream",
          "text": [
            "Test Epoch 65/100\n"
          ]
        },
        {
          "name": "stderr",
          "output_type": "stream",
          "text": [
            "Epoch 66/100: 100%|██████████| 3/3 [00:01<00:00,  1.55it/s]\n"
          ]
        },
        {
          "name": "stdout",
          "output_type": "stream",
          "text": [
            "Train Epoch 66/100, Loss: 0.0163\n"
          ]
        },
        {
          "name": "stderr",
          "output_type": "stream",
          "text": [
            "Eval Epoch 66/100: 100%|██████████| 1/1 [00:00<00:00,  3.98it/s]\n"
          ]
        },
        {
          "name": "stdout",
          "output_type": "stream",
          "text": [
            "Test Epoch 66/100\n"
          ]
        },
        {
          "name": "stderr",
          "output_type": "stream",
          "text": [
            "Epoch 67/100: 100%|██████████| 3/3 [00:01<00:00,  1.55it/s]\n"
          ]
        },
        {
          "name": "stdout",
          "output_type": "stream",
          "text": [
            "Train Epoch 67/100, Loss: 0.0170\n"
          ]
        },
        {
          "name": "stderr",
          "output_type": "stream",
          "text": [
            "Eval Epoch 67/100: 100%|██████████| 1/1 [00:00<00:00,  4.19it/s]\n"
          ]
        },
        {
          "name": "stdout",
          "output_type": "stream",
          "text": [
            "Test Epoch 67/100\n"
          ]
        },
        {
          "name": "stderr",
          "output_type": "stream",
          "text": [
            "Epoch 68/100: 100%|██████████| 3/3 [00:01<00:00,  1.55it/s]\n"
          ]
        },
        {
          "name": "stdout",
          "output_type": "stream",
          "text": [
            "Train Epoch 68/100, Loss: 0.0149\n"
          ]
        },
        {
          "name": "stderr",
          "output_type": "stream",
          "text": [
            "Eval Epoch 68/100: 100%|██████████| 1/1 [00:00<00:00,  4.05it/s]\n"
          ]
        },
        {
          "name": "stdout",
          "output_type": "stream",
          "text": [
            "Test Epoch 68/100\n"
          ]
        },
        {
          "name": "stderr",
          "output_type": "stream",
          "text": [
            "Epoch 69/100: 100%|██████████| 3/3 [00:01<00:00,  1.56it/s]\n"
          ]
        },
        {
          "name": "stdout",
          "output_type": "stream",
          "text": [
            "Train Epoch 69/100, Loss: 0.0156\n"
          ]
        },
        {
          "name": "stderr",
          "output_type": "stream",
          "text": [
            "Eval Epoch 69/100: 100%|██████████| 1/1 [00:00<00:00,  4.04it/s]\n"
          ]
        },
        {
          "name": "stdout",
          "output_type": "stream",
          "text": [
            "Test Epoch 69/100\n"
          ]
        },
        {
          "name": "stderr",
          "output_type": "stream",
          "text": [
            "Epoch 70/100: 100%|██████████| 3/3 [00:01<00:00,  1.54it/s]\n"
          ]
        },
        {
          "name": "stdout",
          "output_type": "stream",
          "text": [
            "Train Epoch 70/100, Loss: 0.0154\n"
          ]
        },
        {
          "name": "stderr",
          "output_type": "stream",
          "text": [
            "Eval Epoch 70/100: 100%|██████████| 1/1 [00:00<00:00,  4.32it/s]\n"
          ]
        },
        {
          "name": "stdout",
          "output_type": "stream",
          "text": [
            "Test Epoch 70/100\n"
          ]
        },
        {
          "name": "stderr",
          "output_type": "stream",
          "text": [
            "Epoch 71/100: 100%|██████████| 3/3 [00:01<00:00,  1.56it/s]\n"
          ]
        },
        {
          "name": "stdout",
          "output_type": "stream",
          "text": [
            "Train Epoch 71/100, Loss: 0.0146\n"
          ]
        },
        {
          "name": "stderr",
          "output_type": "stream",
          "text": [
            "Eval Epoch 71/100: 100%|██████████| 1/1 [00:00<00:00,  4.00it/s]\n"
          ]
        },
        {
          "name": "stdout",
          "output_type": "stream",
          "text": [
            "Test Epoch 71/100\n"
          ]
        },
        {
          "name": "stderr",
          "output_type": "stream",
          "text": [
            "Epoch 72/100: 100%|██████████| 3/3 [00:01<00:00,  1.56it/s]\n"
          ]
        },
        {
          "name": "stdout",
          "output_type": "stream",
          "text": [
            "Train Epoch 72/100, Loss: 0.0145\n"
          ]
        },
        {
          "name": "stderr",
          "output_type": "stream",
          "text": [
            "Eval Epoch 72/100: 100%|██████████| 1/1 [00:00<00:00,  4.01it/s]\n"
          ]
        },
        {
          "name": "stdout",
          "output_type": "stream",
          "text": [
            "Test Epoch 72/100\n"
          ]
        },
        {
          "name": "stderr",
          "output_type": "stream",
          "text": [
            "Epoch 73/100: 100%|██████████| 3/3 [00:01<00:00,  1.56it/s]\n"
          ]
        },
        {
          "name": "stdout",
          "output_type": "stream",
          "text": [
            "Train Epoch 73/100, Loss: 0.0130\n"
          ]
        },
        {
          "name": "stderr",
          "output_type": "stream",
          "text": [
            "Eval Epoch 73/100: 100%|██████████| 1/1 [00:00<00:00,  4.02it/s]\n"
          ]
        },
        {
          "name": "stdout",
          "output_type": "stream",
          "text": [
            "Test Epoch 73/100\n"
          ]
        },
        {
          "name": "stderr",
          "output_type": "stream",
          "text": [
            "Epoch 74/100: 100%|██████████| 3/3 [00:01<00:00,  1.56it/s]\n"
          ]
        },
        {
          "name": "stdout",
          "output_type": "stream",
          "text": [
            "Train Epoch 74/100, Loss: 0.0139\n"
          ]
        },
        {
          "name": "stderr",
          "output_type": "stream",
          "text": [
            "Eval Epoch 74/100: 100%|██████████| 1/1 [00:00<00:00,  4.19it/s]\n"
          ]
        },
        {
          "name": "stdout",
          "output_type": "stream",
          "text": [
            "Test Epoch 74/100\n"
          ]
        },
        {
          "name": "stderr",
          "output_type": "stream",
          "text": [
            "Epoch 75/100: 100%|██████████| 3/3 [00:01<00:00,  1.55it/s]\n"
          ]
        },
        {
          "name": "stdout",
          "output_type": "stream",
          "text": [
            "Train Epoch 75/100, Loss: 0.0132\n"
          ]
        },
        {
          "name": "stderr",
          "output_type": "stream",
          "text": [
            "Eval Epoch 75/100: 100%|██████████| 1/1 [00:00<00:00,  4.07it/s]\n"
          ]
        },
        {
          "name": "stdout",
          "output_type": "stream",
          "text": [
            "Test Epoch 75/100\n"
          ]
        },
        {
          "name": "stderr",
          "output_type": "stream",
          "text": [
            "Epoch 76/100: 100%|██████████| 3/3 [00:01<00:00,  1.57it/s]\n"
          ]
        },
        {
          "name": "stdout",
          "output_type": "stream",
          "text": [
            "Train Epoch 76/100, Loss: 0.0137\n"
          ]
        },
        {
          "name": "stderr",
          "output_type": "stream",
          "text": [
            "Eval Epoch 76/100: 100%|██████████| 1/1 [00:00<00:00,  4.04it/s]\n"
          ]
        },
        {
          "name": "stdout",
          "output_type": "stream",
          "text": [
            "Test Epoch 76/100\n"
          ]
        },
        {
          "name": "stderr",
          "output_type": "stream",
          "text": [
            "Epoch 77/100: 100%|██████████| 3/3 [00:01<00:00,  1.56it/s]\n"
          ]
        },
        {
          "name": "stdout",
          "output_type": "stream",
          "text": [
            "Train Epoch 77/100, Loss: 0.0121\n"
          ]
        },
        {
          "name": "stderr",
          "output_type": "stream",
          "text": [
            "Eval Epoch 77/100: 100%|██████████| 1/1 [00:00<00:00,  4.03it/s]\n"
          ]
        },
        {
          "name": "stdout",
          "output_type": "stream",
          "text": [
            "Test Epoch 77/100\n"
          ]
        },
        {
          "name": "stderr",
          "output_type": "stream",
          "text": [
            "Epoch 78/100: 100%|██████████| 3/3 [00:01<00:00,  1.56it/s]\n"
          ]
        },
        {
          "name": "stdout",
          "output_type": "stream",
          "text": [
            "Train Epoch 78/100, Loss: 0.0128\n"
          ]
        },
        {
          "name": "stderr",
          "output_type": "stream",
          "text": [
            "Eval Epoch 78/100: 100%|██████████| 1/1 [00:00<00:00,  4.00it/s]\n"
          ]
        },
        {
          "name": "stdout",
          "output_type": "stream",
          "text": [
            "Test Epoch 78/100\n"
          ]
        },
        {
          "name": "stderr",
          "output_type": "stream",
          "text": [
            "Epoch 79/100: 100%|██████████| 3/3 [00:01<00:00,  1.55it/s]\n"
          ]
        },
        {
          "name": "stdout",
          "output_type": "stream",
          "text": [
            "Train Epoch 79/100, Loss: 0.0127\n"
          ]
        },
        {
          "name": "stderr",
          "output_type": "stream",
          "text": [
            "Eval Epoch 79/100: 100%|██████████| 1/1 [00:00<00:00,  3.94it/s]\n"
          ]
        },
        {
          "name": "stdout",
          "output_type": "stream",
          "text": [
            "Test Epoch 79/100\n"
          ]
        },
        {
          "name": "stderr",
          "output_type": "stream",
          "text": [
            "Epoch 80/100: 100%|██████████| 3/3 [00:01<00:00,  1.56it/s]\n"
          ]
        },
        {
          "name": "stdout",
          "output_type": "stream",
          "text": [
            "Train Epoch 80/100, Loss: 0.0118\n"
          ]
        },
        {
          "name": "stderr",
          "output_type": "stream",
          "text": [
            "Eval Epoch 80/100: 100%|██████████| 1/1 [00:00<00:00,  3.94it/s]\n"
          ]
        },
        {
          "name": "stdout",
          "output_type": "stream",
          "text": [
            "Test Epoch 80/100\n"
          ]
        },
        {
          "name": "stderr",
          "output_type": "stream",
          "text": [
            "Epoch 81/100: 100%|██████████| 3/3 [00:01<00:00,  1.56it/s]\n"
          ]
        },
        {
          "name": "stdout",
          "output_type": "stream",
          "text": [
            "Train Epoch 81/100, Loss: 0.0120\n"
          ]
        },
        {
          "name": "stderr",
          "output_type": "stream",
          "text": [
            "Eval Epoch 81/100: 100%|██████████| 1/1 [00:00<00:00,  4.06it/s]\n"
          ]
        },
        {
          "name": "stdout",
          "output_type": "stream",
          "text": [
            "Test Epoch 81/100\n"
          ]
        },
        {
          "name": "stderr",
          "output_type": "stream",
          "text": [
            "Epoch 82/100: 100%|██████████| 3/3 [00:01<00:00,  1.55it/s]\n"
          ]
        },
        {
          "name": "stdout",
          "output_type": "stream",
          "text": [
            "Train Epoch 82/100, Loss: 0.0116\n"
          ]
        },
        {
          "name": "stderr",
          "output_type": "stream",
          "text": [
            "Eval Epoch 82/100: 100%|██████████| 1/1 [00:00<00:00,  4.02it/s]\n"
          ]
        },
        {
          "name": "stdout",
          "output_type": "stream",
          "text": [
            "Test Epoch 82/100\n"
          ]
        },
        {
          "name": "stderr",
          "output_type": "stream",
          "text": [
            "Epoch 83/100: 100%|██████████| 3/3 [00:01<00:00,  1.55it/s]\n"
          ]
        },
        {
          "name": "stdout",
          "output_type": "stream",
          "text": [
            "Train Epoch 83/100, Loss: 0.0119\n"
          ]
        },
        {
          "name": "stderr",
          "output_type": "stream",
          "text": [
            "Eval Epoch 83/100: 100%|██████████| 1/1 [00:00<00:00,  3.99it/s]\n"
          ]
        },
        {
          "name": "stdout",
          "output_type": "stream",
          "text": [
            "Test Epoch 83/100\n"
          ]
        },
        {
          "name": "stderr",
          "output_type": "stream",
          "text": [
            "Epoch 84/100: 100%|██████████| 3/3 [00:01<00:00,  1.54it/s]\n"
          ]
        },
        {
          "name": "stdout",
          "output_type": "stream",
          "text": [
            "Train Epoch 84/100, Loss: 0.0115\n"
          ]
        },
        {
          "name": "stderr",
          "output_type": "stream",
          "text": [
            "Eval Epoch 84/100: 100%|██████████| 1/1 [00:00<00:00,  4.03it/s]\n"
          ]
        },
        {
          "name": "stdout",
          "output_type": "stream",
          "text": [
            "Test Epoch 84/100\n"
          ]
        },
        {
          "name": "stderr",
          "output_type": "stream",
          "text": [
            "Epoch 85/100: 100%|██████████| 3/3 [00:01<00:00,  1.54it/s]\n"
          ]
        },
        {
          "name": "stdout",
          "output_type": "stream",
          "text": [
            "Train Epoch 85/100, Loss: 0.0110\n"
          ]
        },
        {
          "name": "stderr",
          "output_type": "stream",
          "text": [
            "Eval Epoch 85/100: 100%|██████████| 1/1 [00:00<00:00,  4.14it/s]\n"
          ]
        },
        {
          "name": "stdout",
          "output_type": "stream",
          "text": [
            "Test Epoch 85/100\n"
          ]
        },
        {
          "name": "stderr",
          "output_type": "stream",
          "text": [
            "Epoch 86/100: 100%|██████████| 3/3 [00:01<00:00,  1.54it/s]\n"
          ]
        },
        {
          "name": "stdout",
          "output_type": "stream",
          "text": [
            "Train Epoch 86/100, Loss: 0.0108\n"
          ]
        },
        {
          "name": "stderr",
          "output_type": "stream",
          "text": [
            "Eval Epoch 86/100: 100%|██████████| 1/1 [00:00<00:00,  4.12it/s]\n"
          ]
        },
        {
          "name": "stdout",
          "output_type": "stream",
          "text": [
            "Test Epoch 86/100\n"
          ]
        },
        {
          "name": "stderr",
          "output_type": "stream",
          "text": [
            "Epoch 87/100: 100%|██████████| 3/3 [00:01<00:00,  1.55it/s]\n"
          ]
        },
        {
          "name": "stdout",
          "output_type": "stream",
          "text": [
            "Train Epoch 87/100, Loss: 0.0108\n"
          ]
        },
        {
          "name": "stderr",
          "output_type": "stream",
          "text": [
            "Eval Epoch 87/100: 100%|██████████| 1/1 [00:00<00:00,  4.04it/s]\n"
          ]
        },
        {
          "name": "stdout",
          "output_type": "stream",
          "text": [
            "Test Epoch 87/100\n"
          ]
        },
        {
          "name": "stderr",
          "output_type": "stream",
          "text": [
            "Epoch 88/100: 100%|██████████| 3/3 [00:01<00:00,  1.54it/s]\n"
          ]
        },
        {
          "name": "stdout",
          "output_type": "stream",
          "text": [
            "Train Epoch 88/100, Loss: 0.0106\n"
          ]
        },
        {
          "name": "stderr",
          "output_type": "stream",
          "text": [
            "Eval Epoch 88/100: 100%|██████████| 1/1 [00:00<00:00,  4.02it/s]\n"
          ]
        },
        {
          "name": "stdout",
          "output_type": "stream",
          "text": [
            "Test Epoch 88/100\n"
          ]
        },
        {
          "name": "stderr",
          "output_type": "stream",
          "text": [
            "Epoch 89/100: 100%|██████████| 3/3 [00:01<00:00,  1.55it/s]\n"
          ]
        },
        {
          "name": "stdout",
          "output_type": "stream",
          "text": [
            "Train Epoch 89/100, Loss: 0.0110\n"
          ]
        },
        {
          "name": "stderr",
          "output_type": "stream",
          "text": [
            "Eval Epoch 89/100: 100%|██████████| 1/1 [00:00<00:00,  3.96it/s]\n"
          ]
        },
        {
          "name": "stdout",
          "output_type": "stream",
          "text": [
            "Test Epoch 89/100\n"
          ]
        },
        {
          "name": "stderr",
          "output_type": "stream",
          "text": [
            "Epoch 90/100: 100%|██████████| 3/3 [00:01<00:00,  1.54it/s]\n"
          ]
        },
        {
          "name": "stdout",
          "output_type": "stream",
          "text": [
            "Train Epoch 90/100, Loss: 0.0099\n"
          ]
        },
        {
          "name": "stderr",
          "output_type": "stream",
          "text": [
            "Eval Epoch 90/100: 100%|██████████| 1/1 [00:00<00:00,  4.05it/s]\n"
          ]
        },
        {
          "name": "stdout",
          "output_type": "stream",
          "text": [
            "Test Epoch 90/100\n"
          ]
        },
        {
          "name": "stderr",
          "output_type": "stream",
          "text": [
            "Epoch 91/100: 100%|██████████| 3/3 [00:01<00:00,  1.54it/s]\n"
          ]
        },
        {
          "name": "stdout",
          "output_type": "stream",
          "text": [
            "Train Epoch 91/100, Loss: 0.0102\n"
          ]
        },
        {
          "name": "stderr",
          "output_type": "stream",
          "text": [
            "Eval Epoch 91/100: 100%|██████████| 1/1 [00:00<00:00,  4.07it/s]\n"
          ]
        },
        {
          "name": "stdout",
          "output_type": "stream",
          "text": [
            "Test Epoch 91/100\n"
          ]
        },
        {
          "name": "stderr",
          "output_type": "stream",
          "text": [
            "Epoch 92/100: 100%|██████████| 3/3 [00:01<00:00,  1.54it/s]\n"
          ]
        },
        {
          "name": "stdout",
          "output_type": "stream",
          "text": [
            "Train Epoch 92/100, Loss: 0.0107\n"
          ]
        },
        {
          "name": "stderr",
          "output_type": "stream",
          "text": [
            "Eval Epoch 92/100: 100%|██████████| 1/1 [00:00<00:00,  4.01it/s]\n"
          ]
        },
        {
          "name": "stdout",
          "output_type": "stream",
          "text": [
            "Test Epoch 92/100\n"
          ]
        },
        {
          "name": "stderr",
          "output_type": "stream",
          "text": [
            "Epoch 93/100: 100%|██████████| 3/3 [00:01<00:00,  1.54it/s]\n"
          ]
        },
        {
          "name": "stdout",
          "output_type": "stream",
          "text": [
            "Train Epoch 93/100, Loss: 0.0102\n"
          ]
        },
        {
          "name": "stderr",
          "output_type": "stream",
          "text": [
            "Eval Epoch 93/100: 100%|██████████| 1/1 [00:00<00:00,  3.99it/s]\n"
          ]
        },
        {
          "name": "stdout",
          "output_type": "stream",
          "text": [
            "Test Epoch 93/100\n"
          ]
        },
        {
          "name": "stderr",
          "output_type": "stream",
          "text": [
            "Epoch 94/100: 100%|██████████| 3/3 [00:01<00:00,  1.54it/s]\n"
          ]
        },
        {
          "name": "stdout",
          "output_type": "stream",
          "text": [
            "Train Epoch 94/100, Loss: 0.0095\n"
          ]
        },
        {
          "name": "stderr",
          "output_type": "stream",
          "text": [
            "Eval Epoch 94/100: 100%|██████████| 1/1 [00:00<00:00,  3.98it/s]\n"
          ]
        },
        {
          "name": "stdout",
          "output_type": "stream",
          "text": [
            "Test Epoch 94/100\n"
          ]
        },
        {
          "name": "stderr",
          "output_type": "stream",
          "text": [
            "Epoch 95/100: 100%|██████████| 3/3 [00:01<00:00,  1.53it/s]\n"
          ]
        },
        {
          "name": "stdout",
          "output_type": "stream",
          "text": [
            "Train Epoch 95/100, Loss: 0.0098\n"
          ]
        },
        {
          "name": "stderr",
          "output_type": "stream",
          "text": [
            "Eval Epoch 95/100: 100%|██████████| 1/1 [00:00<00:00,  4.15it/s]\n"
          ]
        },
        {
          "name": "stdout",
          "output_type": "stream",
          "text": [
            "Test Epoch 95/100\n"
          ]
        },
        {
          "name": "stderr",
          "output_type": "stream",
          "text": [
            "Epoch 96/100: 100%|██████████| 3/3 [00:01<00:00,  1.54it/s]\n"
          ]
        },
        {
          "name": "stdout",
          "output_type": "stream",
          "text": [
            "Train Epoch 96/100, Loss: 0.0097\n"
          ]
        },
        {
          "name": "stderr",
          "output_type": "stream",
          "text": [
            "Eval Epoch 96/100: 100%|██████████| 1/1 [00:00<00:00,  4.01it/s]\n"
          ]
        },
        {
          "name": "stdout",
          "output_type": "stream",
          "text": [
            "Test Epoch 96/100\n"
          ]
        },
        {
          "name": "stderr",
          "output_type": "stream",
          "text": [
            "Epoch 97/100: 100%|██████████| 3/3 [00:01<00:00,  1.53it/s]\n"
          ]
        },
        {
          "name": "stdout",
          "output_type": "stream",
          "text": [
            "Train Epoch 97/100, Loss: 0.0106\n"
          ]
        },
        {
          "name": "stderr",
          "output_type": "stream",
          "text": [
            "Eval Epoch 97/100: 100%|██████████| 1/1 [00:00<00:00,  4.06it/s]\n"
          ]
        },
        {
          "name": "stdout",
          "output_type": "stream",
          "text": [
            "Test Epoch 97/100\n"
          ]
        },
        {
          "name": "stderr",
          "output_type": "stream",
          "text": [
            "Epoch 98/100: 100%|██████████| 3/3 [00:01<00:00,  1.55it/s]\n"
          ]
        },
        {
          "name": "stdout",
          "output_type": "stream",
          "text": [
            "Train Epoch 98/100, Loss: 0.0096\n"
          ]
        },
        {
          "name": "stderr",
          "output_type": "stream",
          "text": [
            "Eval Epoch 98/100: 100%|██████████| 1/1 [00:00<00:00,  3.88it/s]\n"
          ]
        },
        {
          "name": "stdout",
          "output_type": "stream",
          "text": [
            "Test Epoch 98/100\n"
          ]
        },
        {
          "name": "stderr",
          "output_type": "stream",
          "text": [
            "Epoch 99/100: 100%|██████████| 3/3 [00:01<00:00,  1.55it/s]\n"
          ]
        },
        {
          "name": "stdout",
          "output_type": "stream",
          "text": [
            "Train Epoch 99/100, Loss: 0.0089\n"
          ]
        },
        {
          "name": "stderr",
          "output_type": "stream",
          "text": [
            "Eval Epoch 99/100: 100%|██████████| 1/1 [00:00<00:00,  3.94it/s]\n"
          ]
        },
        {
          "name": "stdout",
          "output_type": "stream",
          "text": [
            "Test Epoch 99/100\n"
          ]
        },
        {
          "name": "stderr",
          "output_type": "stream",
          "text": [
            "Epoch 100/100: 100%|██████████| 3/3 [00:01<00:00,  1.54it/s]\n"
          ]
        },
        {
          "name": "stdout",
          "output_type": "stream",
          "text": [
            "Train Epoch 100/100, Loss: 0.0086\n"
          ]
        },
        {
          "name": "stderr",
          "output_type": "stream",
          "text": [
            "Eval Epoch 100/100: 100%|██████████| 1/1 [00:00<00:00,  3.96it/s]\n"
          ]
        },
        {
          "name": "stdout",
          "output_type": "stream",
          "text": [
            "Test Epoch 100/100\n",
            "Training complete. Model saved.\n"
          ]
        }
      ],
      "source": [
        "label_encoder = LabelEncoder()\n",
        "encoded_labels = label_encoder.fit_transform(criminal_names)\n",
        "\n",
        "# Split data into train and test sets\n",
        "train_descriptions, test_descriptions, train_labels, test_labels = train_test_split(\n",
        "    crime_descriptions, encoded_labels, test_size=0.2, random_state=42\n",
        ")\n",
        "\n",
        "# Save the label encoder\n",
        "joblib.dump(label_encoder, 'label_encoder.pkl')\n",
        "\n",
        "# Prepare dataset class\n",
        "class CrimeDataset(Dataset):\n",
        "    def __init__(self, descriptions, labels, tokenizer, max_length):\n",
        "        self.descriptions = descriptions\n",
        "        self.labels = labels\n",
        "        self.tokenizer = tokenizer\n",
        "        self.max_length = max_length\n",
        "\n",
        "    def __len__(self):\n",
        "        return len(self.descriptions)\n",
        "\n",
        "    def __getitem__(self, idx):\n",
        "        description = str(self.descriptions[idx])\n",
        "        label = self.labels[idx]\n",
        "        encoding = self.tokenizer.encode_plus(\n",
        "            description,\n",
        "            add_special_tokens=True,\n",
        "            max_length=self.max_length,\n",
        "            return_token_type_ids=False,\n",
        "            padding='max_length',\n",
        "            truncation=True,\n",
        "            return_tensors='pt'\n",
        "        )\n",
        "        return {\n",
        "            'input_ids': encoding['input_ids'].flatten(),\n",
        "            'attention_mask': encoding['attention_mask'].flatten(),\n",
        "            'labels': torch.tensor(label, dtype=torch.long)\n",
        "        }\n",
        "\n",
        "# Set up BERT tokenizer and model\n",
        "tokenizer = BertTokenizer.from_pretrained('bert-base-uncased')\n",
        "model = BertForSequenceClassification.from_pretrained('bert-base-uncased', num_labels=len(criminal_names))\n",
        "\n",
        "# Set training parameters\n",
        "batch_size = 8\n",
        "max_length = 500\n",
        "epochs = 100\n",
        "learning_rate = 2e-4\n",
        "\n",
        "# Prepare train dataset and data loader\n",
        "train_dataset = CrimeDataset(train_descriptions, train_labels, tokenizer, max_length)\n",
        "train_dataloader = DataLoader(train_dataset, batch_size=batch_size, shuffle=True)\n",
        "\n",
        "# Prepare test dataset and data loader\n",
        "test_dataset = CrimeDataset(test_descriptions, test_labels, tokenizer, max_length)\n",
        "test_dataloader = DataLoader(test_dataset, batch_size=batch_size, shuffle=False)\n",
        "\n",
        "# Set up optimizer and loss function\n",
        "optimizer = torch.optim.AdamW(model.parameters(), lr=learning_rate)\n",
        "criterion = torch.nn.CrossEntropyLoss()\n",
        "\n",
        "# Training loop\n",
        "device = torch.device('cuda' if torch.cuda.is_available() else 'cpu')\n",
        "model.to(device)\n",
        "loss_list = []\n",
        "\n",
        "for epoch in range(epochs):\n",
        "    model.train()\n",
        "    total_loss = 0\n",
        "\n",
        "    for batch in tqdm(train_dataloader, desc=f'Epoch {epoch + 1}/{epochs}'):\n",
        "        input_ids = batch['input_ids'].to(device)\n",
        "        attention_mask = batch['attention_mask'].to(device)\n",
        "        labels = batch['labels'].to(device)\n",
        "\n",
        "        optimizer.zero_grad()\n",
        "\n",
        "        outputs = model(input_ids, attention_mask=attention_mask, labels=labels)\n",
        "        loss = outputs.loss\n",
        "        total_loss += loss.item()\n",
        "\n",
        "        loss.backward()\n",
        "        optimizer.step()\n",
        "\n",
        "    avg_loss = total_loss / len(train_dataloader)\n",
        "    loss_list.append(avg_loss)\n",
        "    print(f'Train Epoch {epoch + 1}/{epochs}, Loss: {avg_loss:.4f}')\n",
        "\n",
        "    # Evaluate the model on test data\n",
        "    model.eval()\n",
        "\n",
        "    with torch.no_grad():\n",
        "        for batch in tqdm(test_dataloader, desc=f'Eval Epoch {epoch + 1}/{epochs}'):\n",
        "            input_ids = batch['input_ids'].to(device)\n",
        "            attention_mask = batch['attention_mask'].to(device)\n",
        "            labels = batch['labels'].to(device)\n",
        "\n",
        "            outputs = model(input_ids, attention_mask=attention_mask)\n",
        "            logits = outputs.logits\n",
        "            predicted_labels = torch.argmax(logits, dim=1)\n",
        "\n",
        "    print(f'Test Epoch {epoch + 1}/{epochs}')\n",
        "\n",
        "# Save the trained model\n",
        "model.save_pretrained('crime_bert_model')\n",
        "tokenizer.save_pretrained('crime_bert_tokenizer')\n",
        "\n",
        "print(\"Training complete. Model saved.\")"
      ]
    },
    {
      "cell_type": "code",
      "execution_count": null,
      "metadata": {
        "colab": {
          "base_uri": "https://localhost:8080/",
          "height": 490
        },
        "id": "eQsdnHwRDnh7",
        "outputId": "f5431b05-a461-48c6-d106-cc110e819927"
      },
      "outputs": [
        {
          "data": {
            "text/plain": [
              "Text(0.5, 1.0, 'Epochs vs Loss Graph')"
            ]
          },
          "execution_count": 29,
          "metadata": {},
          "output_type": "execute_result"
        },
        {
          "data": {
            "image/png": "[encoded data removed]",
            "text/plain": [
              "<Figure size 640x480 with 1 Axes>"
            ]
          },
          "metadata": {},
          "output_type": "display_data"
        }
      ],
      "source": [
        "import matplotlib.pyplot as plt\n",
        "\n",
        "x = list(range(1,101))\n",
        "y = loss_list\n",
        "\n",
        "plt.plot(x, y)\n",
        "plt.xlabel(\"Epochs\")\n",
        "plt.ylabel(\"Loss\")\n",
        "plt.title(\"Epochs vs Loss Graph\")"
      ]
    },
    {
      "cell_type": "code",
      "execution_count": null,
      "metadata": {
        "colab": {
          "base_uri": "https://localhost:8080/"
        },
        "id": "3DBKV-srClb2",
        "outputId": "647e5bee-5c5b-4cc4-f4ef-56c3df3e61d9"
      },
      "outputs": [
        {
          "name": "stdout",
          "output_type": "stream",
          "text": [
            "Predicted Criminal: Mr. Daniel Thompson\n"
          ]
        }
      ],
      "source": [
        "# Load saved model, tokenizer, and label encoder\n",
        "model_path = 'crime_bert_model'  # Path to the saved model\n",
        "tokenizer_path = 'crime_bert_tokenizer'  # Path to the saved tokenizer\n",
        "label_encoder_path = 'label_encoder.pkl'  # Path to the saved label encoder\n",
        "\n",
        "model = BertForSequenceClassification.from_pretrained(model_path)\n",
        "tokenizer = BertTokenizer.from_pretrained(tokenizer_path)\n",
        "label_encoder = joblib.load(label_encoder_path)\n",
        "\n",
        "# Function to predict criminal from description\n",
        "def predict_criminal(description):\n",
        "    encoded_input = tokenizer(description, return_tensors='pt', max_length=128, truncation=True)\n",
        "    input_ids = encoded_input['input_ids']\n",
        "    attention_mask = encoded_input['attention_mask']\n",
        "\n",
        "    with torch.no_grad():\n",
        "        outputs = model(input_ids, attention_mask=attention_mask)\n",
        "\n",
        "    logits = outputs.logits\n",
        "    predicted_label = torch.argmax(logits, dim=1).item()\n",
        "    predicted_criminal = label_encoder.inverse_transform([predicted_label])[0]\n",
        "\n",
        "    return predicted_criminal\n",
        "\n",
        "# Example usage\n",
        "description = \"\"\"In the serene town of Meadowbrook, a sinister crime unfolded one foggy evening. The victim, Mr. James Monroe, a prominent\n",
        "local politician known for his charismatic charm, was discovered dead in his sprawling estate. The scene was haunting, with tendrils of mist\n",
        "creeping through the corridors and casting eerie shadows on the walls. Mr. Monroe lay motionless in his study, a look of disbelief frozen on his face.\n",
        "As investigators delved into the mystery, a diverse cast of characters emerged among the guests who had attended Mr. Monroe's fateful gathering.\n",
        "Dr. Gregory Westwood, a renowned surgeon with a penchant for secrecy, arrived early, his demeanor guarded and inscrutable. Ms. Samantha Taylor,\n",
        "a fiery journalist known for her relentless pursuit of truth, mingled with the crowd, her probing questions sparking suspicion. Mr. Daniel Thompson,\n",
        "a wealthy entrepreneur with a reputation for ruthlessness, moved through the room with ease, his steely gaze betraying little of his true intentions.\n",
        "Each guest harbored their own secrets and motivations, their interactions fraught with tension and hidden agendas.\n",
        "As the night wore on, tempers flared and long-held grudges bubbled to the surface. Amidst heated arguments and whispered accusations, someone seized\n",
        "a lethal weapon—a vintage revolver—and fired a single fatal shot, ending Mr. Monroe's life in an instant.\n",
        "The murder weapon, a tarnished revolver of antique design, was discovered discarded in the garden, its barrel still warm from the fatal shot.\n",
        "Yet, amidst the chaos and confusion, the identity of the killer remained elusive, shrouded in a veil of mystery.\n",
        "Each guest's tangled web of lies and deceit provided investigators with a labyrinth of clues, but unraveling the truth would require navigating\n",
        "the treacherous depths of deception that lurked within Meadowbrook's elite circles.\"\"\"\n",
        "\n",
        "predicted_criminal = predict_criminal(description) #Should predict Daniel Thompson\n",
        "\n",
        "print(\"Predicted Criminal:\", predicted_criminal)\n"
      ]
    }
  ],
  "metadata": {
    "accelerator": "GPU",
    "colab": {
      "gpuType": "T4",
      "provenance": []
    },
    "kernelspec": {
      "display_name": "Python 3",
      "name": "python3"
    },
    "language_info": {
      "name": "python"
    }
  },
  "nbformat": 4,
  "nbformat_minor": 0
}
